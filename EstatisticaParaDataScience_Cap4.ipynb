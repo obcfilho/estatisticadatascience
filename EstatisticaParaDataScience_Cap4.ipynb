{
  "nbformat": 4,
  "nbformat_minor": 0,
  "metadata": {
    "colab": {
      "name": "EstatisticaParaDataScience_Cap4.ipynb",
      "provenance": []
    },
    "kernelspec": {
      "name": "python3",
      "display_name": "Python 3"
    },
    "language_info": {
      "name": "python"
    }
  },
  "cells": [
    {
      "cell_type": "markdown",
      "source": [
        "# Capítulo 4 - Cálculo das probabilidades: conceitos e fundamentos"
      ],
      "metadata": {
        "id": "gbsWWf569_B5"
      }
    },
    {
      "cell_type": "code",
      "execution_count": null,
      "metadata": {
        "id": "3JGEJzg-99q1",
        "colab": {
          "base_uri": "https://localhost:8080/"
        },
        "outputId": "5751630a-252e-49d1-de04-ab81d469e127"
      },
      "outputs": [
        {
          "output_type": "stream",
          "name": "stdout",
          "text": [
            "The rpy2.ipython extension is already loaded. To reload it, use:\n",
            "  %reload_ext rpy2.ipython\n"
          ]
        }
      ],
      "source": [
        "# Habilita a execução de R no Google Colab\n",
        "%load_ext rpy2.ipython"
      ]
    },
    {
      "cell_type": "markdown",
      "source": [
        "## Conceitos fundamentais em probabilidade"
      ],
      "metadata": {
        "id": "V5lrkmxn-UzP"
      }
    },
    {
      "cell_type": "code",
      "source": [
        "%%R\n",
        "# Instalando a biblioteca\n",
        "#install.packages(\"prob\")\n",
        "# Carregando a biblioteca\n",
        "library(prob)\n",
        "# Criando um dado de 6 faces a ser rodado 1 vez, makespace=T cria uma coluna com as probabilidades de cada face\n",
        "dado = rolldie(1, nsides = 6, makespace = T)\n",
        "# Selecionando só as faces pares (o operador %% representa o resto da divisão)\n",
        "subset(dado, X1%%2==0)"
      ],
      "metadata": {
        "colab": {
          "base_uri": "https://localhost:8080/"
        },
        "id": "7P2sg0tY-s8V",
        "outputId": "36e523a2-d20d-40ca-8811-8c027cf3a02c"
      },
      "execution_count": null,
      "outputs": [
        {
          "output_type": "stream",
          "name": "stdout",
          "text": [
            "  X1     probs\n",
            "2  2 0.1666667\n",
            "4  4 0.1666667\n",
            "6  6 0.1666667\n"
          ]
        }
      ]
    },
    {
      "cell_type": "code",
      "source": [
        "# Criando um dado de 6 faces a ser\n",
        "dado = [x for x in range(1,7)]\n",
        "# Selecionando só as faces pares (o operador % representa o resto da divisão)\n",
        "[x for x in dado if x%2==0]\n",
        "# TODO: imprimir também as probabilidades"
      ],
      "metadata": {
        "colab": {
          "base_uri": "https://localhost:8080/"
        },
        "id": "0ty7w87ebnj-",
        "outputId": "18ae0940-b013-4e86-94d4-a08231cb667a"
      },
      "execution_count": null,
      "outputs": [
        {
          "output_type": "execute_result",
          "data": {
            "text/plain": [
              "[2, 4, 6]"
            ]
          },
          "metadata": {},
          "execution_count": 6
        }
      ]
    },
    {
      "cell_type": "code",
      "source": [
        "%%R\n",
        "# Carregando a biblioteca\n",
        "library(prob)\n",
        "# Criando os eventos\n",
        "A = subset(rolldie(1,makespace = F), X1%%2==0)\n",
        "B = subset(rolldie(1,makespace = F), X1>3)\n",
        "# União dos eventos A e B\n",
        "uniao = union(A,B)\n",
        "print(uniao)\n",
        "# Interseção dos eventos A e B\n",
        "intersecao = intersect(A,B)\n",
        "print(intersecao)"
      ],
      "metadata": {
        "colab": {
          "base_uri": "https://localhost:8080/"
        },
        "id": "1tA2hP4Po5X1",
        "outputId": "3cb4ae41-d453-4e89-9c03-b1a2016495ef"
      },
      "execution_count": null,
      "outputs": [
        {
          "output_type": "stream",
          "name": "stdout",
          "text": [
            "[1] 2 4 5 6\n",
            "[1] 4 6\n"
          ]
        }
      ]
    },
    {
      "cell_type": "code",
      "source": [
        "# Criando os eventos\n",
        "A = [x for x in dado if x%2==0]\n",
        "B = [x for x in dado if x>3]\n",
        "# União dos eventos A e B\n",
        "uniao = set(A).union(set(B))\n",
        "print(uniao)\n",
        "# Interseção dos eventos A e B\n",
        "intersecao = set(A).intersection(set(B))\n",
        "print(intersecao)"
      ],
      "metadata": {
        "colab": {
          "base_uri": "https://localhost:8080/"
        },
        "id": "gwL-dzEJxmXW",
        "outputId": "0ae9d81a-a0f4-4e8a-b52f-b744e6c97c55"
      },
      "execution_count": null,
      "outputs": [
        {
          "output_type": "stream",
          "name": "stdout",
          "text": [
            "{2, 4, 5, 6}\n",
            "{4, 6}\n"
          ]
        }
      ]
    },
    {
      "cell_type": "markdown",
      "source": [
        "## Atribuição das probabilidades"
      ],
      "metadata": {
        "id": "SjHeOyGFpmSo"
      }
    },
    {
      "cell_type": "code",
      "source": [
        "%%R\n",
        "# Carregando a biblioteca\n",
        "library(prob)\n",
        "# Sendo H do inglês \"Head\" que significa \"cara\"\n",
        "# Sendo T do inglês \"Tail\" que significa \"coroa\"\n",
        "# Cria e imprime o espaço amostral para um lançamento de moedas\n",
        "qtd_moedas = 3\n",
        "moedas = tosscoin(qtd_moedas, makespace = F)\n",
        "print(moedas)\n",
        "# Selecionando as linhas 2, 3 e 5 (que têm duas caras) e todas as colunas do dataframe moedas\n",
        "duas_caras = moedas[c(2,3,5),]\n",
        "# Calculando a probabilidade desejada\n",
        "dim(duas_caras)[1]/dim(moedas)[1]"
      ],
      "metadata": {
        "colab": {
          "base_uri": "https://localhost:8080/"
        },
        "id": "1KuCcpGupnDf",
        "outputId": "ebe4a7e0-e9b3-4a27-92f0-04fb4c7745d5"
      },
      "execution_count": null,
      "outputs": [
        {
          "output_type": "stream",
          "name": "stdout",
          "text": [
            "  toss1 toss2 toss3\n",
            "1     H     H     H\n",
            "2     T     H     H\n",
            "3     H     T     H\n",
            "4     T     T     H\n",
            "5     H     H     T\n",
            "6     T     H     T\n",
            "7     H     T     T\n",
            "8     T     T     T\n",
            "[1] 0.375\n"
          ]
        }
      ]
    },
    {
      "cell_type": "code",
      "source": [
        "# Imports de bibliotecas\n",
        "import math\n",
        "import itertools\n",
        "import pandas as pd\n",
        "from collections import Counter\n",
        "\n",
        "# Sendo H do inglês \"Head\" que significa \"cara\"\n",
        "# Sendo T do inglês \"Tail\" que significa \"coroa\"\n",
        "# Cria e imprime o espaço amostral para um lançamento de moedas\n",
        "qtd_moedas = 3\n",
        "moedas = [x for x in (\"H\",\"T\")] # H=head(cara) e T=tail(coroa)\n",
        "# Número de combinações possíveis\n",
        "comb = int(math.pow(len(moedas),qtd_moedas))\n",
        "\n",
        "# Cria matriz vazia\n",
        "mres = [[0] * qtd_moedas for i in range(comb)]\n",
        "\n",
        "# Combinações possíveis\n",
        "iterables = [ [\"H\",\"T\"], [\"H\",\"T\"], [\"H\",\"T\"] ]\n",
        "for t, i in zip(itertools.product(*iterables), range(0,comb)):\n",
        "    mres[i] = t\n",
        "\n",
        "mres = pd.DataFrame(mres, columns = [\"M1\",\"M2\",\"M3\"])\n",
        "print(mres)\n",
        "\n",
        "# Selecionando as linhas que têm duas caras\n",
        "mres[\"Qtd_H\"] = mres.apply(lambda row: Counter(row)[\"H\"], axis = 1)\n",
        "# Calculando a probabilidade desejada\n",
        "p2h = mres[mres[\"Qtd_H\"]==2].shape[0]/mres.shape[0]\n",
        "print(p2h)"
      ],
      "metadata": {
        "colab": {
          "base_uri": "https://localhost:8080/"
        },
        "id": "fz2wWkgn1jaL",
        "outputId": "db419c35-b8cb-4844-ee53-96c04a106c2a"
      },
      "execution_count": null,
      "outputs": [
        {
          "output_type": "stream",
          "name": "stdout",
          "text": [
            "  M1 M2 M3\n",
            "0  H  H  H\n",
            "1  H  H  T\n",
            "2  H  T  H\n",
            "3  H  T  T\n",
            "4  T  H  H\n",
            "5  T  H  T\n",
            "6  T  T  H\n",
            "7  T  T  T\n",
            "0.375\n"
          ]
        }
      ]
    },
    {
      "cell_type": "code",
      "source": [
        "# Criando o objeto P(A)\n",
        "PA = 0.30\n",
        "# Criando o objeto P(B)\n",
        "PB = 0.28\n",
        "# Criando o objeto contendo a probabilidade da interseção\n",
        "PAinterB = 0.24\n",
        "# Calculando a Probabilidade da União\n",
        "PAuniaoB = PA + PB - PAinterB\n",
        "print(PAuniaoB)"
      ],
      "metadata": {
        "colab": {
          "base_uri": "https://localhost:8080/"
        },
        "id": "GHteCDLJp1UU",
        "outputId": "b7ca2044-1deb-408e-b2a9-e778a4968c6a"
      },
      "execution_count": null,
      "outputs": [
        {
          "output_type": "stream",
          "name": "stdout",
          "text": [
            "0.3400000000000001\n"
          ]
        }
      ]
    },
    {
      "cell_type": "code",
      "source": [
        "# Criando o objeto P(A)\n",
        "PA = 0.30\n",
        "# Criando o objeto P(B)\n",
        "PB = 0.28\n",
        "# Criando o objeto contendo a probabilidade da união\n",
        "PAuniaoB = 0.24\n",
        "# Calculando a Probabilidade da União\n",
        "PAInterB = PA + PB - PAuniaoB\n",
        "print(PAuniaoB)"
      ],
      "metadata": {
        "colab": {
          "base_uri": "https://localhost:8080/"
        },
        "id": "JOHzlqBfp5RY",
        "outputId": "6c1c9bab-543f-4337-d81f-f8b94a4b18d4"
      },
      "execution_count": null,
      "outputs": [
        {
          "output_type": "stream",
          "name": "stdout",
          "text": [
            "0.24\n"
          ]
        }
      ]
    },
    {
      "cell_type": "code",
      "source": [
        "# Criando o objeto P(A)\n",
        "PA = 0.10\n",
        "# Criando o objeto P(AC), Evento complementar ao A\n",
        "PAC = 0.9\n",
        "# Criando o objeto PBdadoA\n",
        "PBdadoA = 0.5\n",
        "# Calculando o objeto PBCdadoA\n",
        "PBCdadoA = 0.5\n",
        "# Calculando o objeto PBdadoAC\n",
        "PBdadoAC = 0.15\n",
        "# Calculando o objeto PBCdadoAC\n",
        "PBCdadoAC = 0.85\n",
        "#Queremos saber PB\n",
        "PB = PA * PBdadoA + PAC * PBdadoAC\n",
        "print(PB)"
      ],
      "metadata": {
        "colab": {
          "base_uri": "https://localhost:8080/"
        },
        "id": "Ebcx8Z81q8Fs",
        "outputId": "2b50a8c6-a6ad-4140-c1a3-4e34682b7f48"
      },
      "execution_count": null,
      "outputs": [
        {
          "output_type": "stream",
          "name": "stdout",
          "text": [
            "0.185\n"
          ]
        }
      ]
    },
    {
      "cell_type": "code",
      "source": [
        "# Calculando PAinterB\n",
        "PAinterB = 0.8 * 0.4\n",
        "# Calculando PAinterB\n",
        "PACinterB = 0.2 * 0.2\n",
        "# Calculando PB\n",
        "PB= PAinterB + PACinterB\n",
        "# Utilizando a fórmula de Bayes\n",
        "bayes = PAinterB/PB\n",
        "print(bayes)"
      ],
      "metadata": {
        "id": "SudsHCY2q_sS",
        "outputId": "904a5413-77fc-4a40-e43c-589b717c7411",
        "colab": {
          "base_uri": "https://localhost:8080/"
        }
      },
      "execution_count": null,
      "outputs": [
        {
          "output_type": "stream",
          "name": "stdout",
          "text": [
            "0.8888888888888888\n"
          ]
        }
      ]
    }
  ]
}