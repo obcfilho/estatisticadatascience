{
  "nbformat": 4,
  "nbformat_minor": 0,
  "metadata": {
    "colab": {
      "name": "EstatisticaParaDataScience_Cap3.ipynb",
      "provenance": []
    },
    "kernelspec": {
      "name": "python3",
      "display_name": "Python 3"
    },
    "language_info": {
      "name": "python"
    }
  },
  "cells": [
    {
      "cell_type": "markdown",
      "metadata": {
        "id": "ocRDXXC6OpkC"
      },
      "source": [
        "# Capítulo 3 - Estatística Descritiva: Medidas de Tendência Central e de Dispersão"
      ]
    },
    {
      "cell_type": "code",
      "metadata": {
        "id": "nPh7Yrfw_a5j"
      },
      "source": [
        "# Habilita a execução de R no Google Colab\n",
        "%load_ext rpy2.ipython"
      ],
      "execution_count": 2,
      "outputs": []
    },
    {
      "cell_type": "markdown",
      "metadata": {
        "id": "BNJm7B8x_xA0"
      },
      "source": [
        "## Média aritmética"
      ]
    },
    {
      "cell_type": "code",
      "metadata": {
        "colab": {
          "base_uri": "https://localhost:8080/"
        },
        "id": "Qm0owRpm9x8O",
        "outputId": "90e4443f-c131-42d4-b94a-bd7b604336cb"
      },
      "source": [
        "# Import da função\n",
        "from statistics import mean\n",
        "# Dados\n",
        "dados = [1,2,5,3,4]\n",
        "# Calculando a média aritmética\n",
        "mean(dados)"
      ],
      "execution_count": null,
      "outputs": [
        {
          "output_type": "execute_result",
          "data": {
            "text/plain": [
              "3"
            ]
          },
          "metadata": {
            "tags": []
          },
          "execution_count": 10
        }
      ]
    },
    {
      "cell_type": "code",
      "metadata": {
        "colab": {
          "base_uri": "https://localhost:8080/"
        },
        "id": "BDocNC9U_lm3",
        "outputId": "d27b5101-4030-473c-cca6-2a4498ee26cf"
      },
      "source": [
        "%%R\n",
        "# Dados\n",
        "dados = c(1,2,5,3,4)\n",
        "# Calculando a média aritmética\n",
        "mean(dados)"
      ],
      "execution_count": null,
      "outputs": [
        {
          "output_type": "stream",
          "text": [
            "[1] 3\n"
          ],
          "name": "stdout"
        }
      ]
    },
    {
      "cell_type": "markdown",
      "metadata": {
        "id": "AeL6AJ2N_6t1"
      },
      "source": [
        "## Média geométrica"
      ]
    },
    {
      "cell_type": "code",
      "metadata": {
        "colab": {
          "base_uri": "https://localhost:8080/"
        },
        "id": "qU13N00F_6No",
        "outputId": "7d2ff67f-9964-4687-abbf-9802e604dcb4"
      },
      "source": [
        "# Import da função\n",
        "from scipy.stats.mstats import gmean\n",
        "# Dados\n",
        "dados = [1,2,5,3,4]\n",
        "# Calculando a média geométrica\n",
        "gmean(dados)"
      ],
      "execution_count": null,
      "outputs": [
        {
          "output_type": "execute_result",
          "data": {
            "text/plain": [
              "2.6051710846973517"
            ]
          },
          "metadata": {
            "tags": []
          },
          "execution_count": 21
        }
      ]
    },
    {
      "cell_type": "code",
      "metadata": {
        "colab": {
          "base_uri": "https://localhost:8080/"
        },
        "id": "WtPzLurw_9PM",
        "outputId": "52408623-9bff-45f3-9a15-30ade32f5d32"
      },
      "source": [
        "%%R\n",
        "# Dados\n",
        "dados = c(1,2,5,3,4)\n",
        "# Calculando a média geométrica\n",
        "exp(mean(log(dados)))"
      ],
      "execution_count": null,
      "outputs": [
        {
          "output_type": "stream",
          "text": [
            "[1] 2.605171\n"
          ],
          "name": "stdout"
        }
      ]
    },
    {
      "cell_type": "code",
      "metadata": {
        "id": "qqnAecgNPl2M"
      },
      "source": [
        "%%R\n",
        "# Instalando a biblioteca\n",
        "install.packages(\"EnvStats\")\n",
        "# Carregando a biblioteca\n",
        "library(EnvStats)\n",
        "# Calculando a média geométrica\n",
        "geoMean(dados)"
      ],
      "execution_count": null,
      "outputs": []
    },
    {
      "cell_type": "markdown",
      "metadata": {
        "id": "mNcNA6VQRB2c"
      },
      "source": [
        "## Média Harmônica"
      ]
    },
    {
      "cell_type": "code",
      "metadata": {
        "colab": {
          "base_uri": "https://localhost:8080/"
        },
        "id": "gTiFXIkcRNwk",
        "outputId": "990c6121-d304-44fa-b26a-9fd3620f2fc6"
      },
      "source": [
        "# Import da função\n",
        "from statistics import harmonic_mean\n",
        "# Dados\n",
        "dados = [1,2,5,3,4]\n",
        "# Calculando a média harmônica\n",
        "harmonic_mean(dados)"
      ],
      "execution_count": null,
      "outputs": [
        {
          "output_type": "execute_result",
          "data": {
            "text/plain": [
              "2.18978102189781"
            ]
          },
          "metadata": {
            "tags": []
          },
          "execution_count": 24
        }
      ]
    },
    {
      "cell_type": "code",
      "metadata": {
        "colab": {
          "base_uri": "https://localhost:8080/"
        },
        "id": "YZw2nq7ZRN3f",
        "outputId": "bfad7ab9-9ea6-4e2d-a5b4-fb366355d43c"
      },
      "source": [
        "%%R\n",
        "# Dados\n",
        "dados = c(1,2,5,3,4)\n",
        "# Calculando a média harmônica\n",
        "1/mean(1/dados)"
      ],
      "execution_count": null,
      "outputs": [
        {
          "output_type": "stream",
          "text": [
            "[1] 2.189781\n"
          ],
          "name": "stdout"
        }
      ]
    },
    {
      "cell_type": "code",
      "metadata": {
        "id": "byxvmAt5RoXV"
      },
      "source": [
        "%%R\n",
        "# Instalando a biblioteca\n",
        "install.packages(\"psych\")\n",
        "# Carregando a biblioteca\n",
        "library(psych)\n",
        "# Calculando a média Harmônica\n",
        "harmonic.mean(dados)"
      ],
      "execution_count": null,
      "outputs": []
    },
    {
      "cell_type": "markdown",
      "metadata": {
        "id": "ARLiIUoCT4NG"
      },
      "source": [
        "## Mediana"
      ]
    },
    {
      "cell_type": "code",
      "metadata": {
        "colab": {
          "base_uri": "https://localhost:8080/"
        },
        "id": "x2zeqpsOT50z",
        "outputId": "b7989b50-0cd2-4644-aab8-fb8bbe3c7516"
      },
      "source": [
        "# Import da função\n",
        "from statistics import median\n",
        "# Dados\n",
        "dados = [7,1,5,2,3,1,6]\n",
        "# Calculando a mediana\n",
        "median(dados)"
      ],
      "execution_count": null,
      "outputs": [
        {
          "output_type": "execute_result",
          "data": {
            "text/plain": [
              "3"
            ]
          },
          "metadata": {
            "tags": []
          },
          "execution_count": 34
        }
      ]
    },
    {
      "cell_type": "code",
      "metadata": {
        "colab": {
          "base_uri": "https://localhost:8080/"
        },
        "id": "moHAK1E-T54J",
        "outputId": "bd22ceb0-635d-4c8c-94bc-cca3a2d90564"
      },
      "source": [
        "%%R\n",
        "# Dados\n",
        "dados = c(7,1,5,2,3,1,6)\n",
        "# Calculando a mediana\n",
        "median(dados)"
      ],
      "execution_count": null,
      "outputs": [
        {
          "output_type": "stream",
          "text": [
            "[1] 3\n"
          ],
          "name": "stdout"
        }
      ]
    },
    {
      "cell_type": "code",
      "metadata": {
        "colab": {
          "base_uri": "https://localhost:8080/"
        },
        "id": "04TlOYn9VKhm",
        "outputId": "194cbb49-078c-4dfa-ca6b-c7158a816cb6"
      },
      "source": [
        "# Import da função\n",
        "from statistics import median\n",
        "# Dados\n",
        "dados = [1,2,1,1,4,5,3,6]\n",
        "# Calculando a mediana\n",
        "median(dados)"
      ],
      "execution_count": null,
      "outputs": [
        {
          "output_type": "execute_result",
          "data": {
            "text/plain": [
              "2.5"
            ]
          },
          "metadata": {
            "tags": []
          },
          "execution_count": 32
        }
      ]
    },
    {
      "cell_type": "code",
      "metadata": {
        "colab": {
          "base_uri": "https://localhost:8080/"
        },
        "id": "NpyyfaPSVKqp",
        "outputId": "83c6d87e-d0db-4952-f07d-7901990946e4"
      },
      "source": [
        "%%R\n",
        "# Dados\n",
        "dados = c(1,2,1,1,4,5,3,6)\n",
        "# Calculando a mediana\n",
        "median(dados)"
      ],
      "execution_count": null,
      "outputs": [
        {
          "output_type": "stream",
          "text": [
            "[1] 2.5\n"
          ],
          "name": "stdout"
        }
      ]
    },
    {
      "cell_type": "markdown",
      "metadata": {
        "id": "lhtZ-V1LVZ5X"
      },
      "source": [
        "## Moda"
      ]
    },
    {
      "cell_type": "code",
      "metadata": {
        "colab": {
          "base_uri": "https://localhost:8080/"
        },
        "id": "Sj0OEOIXVc_Y",
        "outputId": "41272b93-0fee-49e9-eb34-db43c6c6e842"
      },
      "source": [
        "# Import da função\n",
        "from statistics import mode\n",
        "# Dados\n",
        "dados = [4,5,4,6,5,8,4]\n",
        "# Calculando a moda\n",
        "mode(dados)"
      ],
      "execution_count": null,
      "outputs": [
        {
          "output_type": "execute_result",
          "data": {
            "text/plain": [
              "4"
            ]
          },
          "metadata": {
            "tags": []
          },
          "execution_count": 37
        }
      ]
    },
    {
      "cell_type": "code",
      "metadata": {
        "id": "x4m4CwcHV0Hu"
      },
      "source": [
        "%%R\n",
        "# Dados\n",
        "dados=c(4,5,4,6,5,8,4)\n",
        "# Instalando a biblioteca\n",
        "install.packages(\"DescTools\")\n",
        "# Carregando a biblioteca\n",
        "library(DescTools)\n",
        "# Calculando a moda\n",
        "Mode(dados)"
      ],
      "execution_count": null,
      "outputs": []
    },
    {
      "cell_type": "code",
      "metadata": {
        "id": "hFpzQ0VyWlwW"
      },
      "source": [
        "# Import da função\n",
        "from statistics import multimode # Python >= 3.8\n",
        "# Dados\n",
        "dados = [4,5,4,6,5,8,4,4,5,5]\n",
        "# Calculando a moda\n",
        "multimode(dados)"
      ],
      "execution_count": null,
      "outputs": []
    },
    {
      "cell_type": "code",
      "metadata": {
        "colab": {
          "base_uri": "https://localhost:8080/"
        },
        "id": "e6GwnhP7YA7K",
        "outputId": "9a817345-dacf-41f8-ef3e-f787c79c25f3"
      },
      "source": [
        "# Se sua versão do Python for < 3.8, use o código a seguir:\n",
        "\n",
        "# Imports das funções\n",
        "from collections import Counter\n",
        "from itertools import groupby\n",
        "# Dados\n",
        "dados = [4,5,4,6,5,8,4,4,5,5]\n",
        "# Agrupando por frequência\n",
        "freqs = groupby(Counter(dados).most_common(), lambda x:x[1])\n",
        "# Imprimindo os grupos de maior frequência\n",
        "print([val for val,count in next(freqs)[1]])"
      ],
      "execution_count": null,
      "outputs": [
        {
          "output_type": "stream",
          "text": [
            "[4, 5]\n"
          ],
          "name": "stdout"
        }
      ]
    },
    {
      "cell_type": "code",
      "metadata": {
        "colab": {
          "base_uri": "https://localhost:8080/"
        },
        "id": "wdTGpXtrWl70",
        "outputId": "d102542a-4eaf-49d3-d4b9-1c2a64974b87"
      },
      "source": [
        "%%R\n",
        "# Dados\n",
        "dados = c(4,5,4,6,5,8,4,4,5,5)\n",
        "# Instalando a biblioteca\n",
        "#install.packages(\"DescTools\")\n",
        "# Carregando a biblioteca\n",
        "library(DescTools)\n",
        "# Calculando a moda\n",
        "Mode(dados)"
      ],
      "execution_count": null,
      "outputs": [
        {
          "output_type": "stream",
          "text": [
            "[1] 4 5\n",
            "attr(,\"freq\")\n",
            "[1] 4\n"
          ],
          "name": "stdout"
        }
      ]
    },
    {
      "cell_type": "code",
      "metadata": {
        "colab": {
          "base_uri": "https://localhost:8080/"
        },
        "id": "YNe3Np0EXOji",
        "outputId": "a0172eae-ba42-4615-bc24-fcfea9834134"
      },
      "source": [
        "# Import da função\n",
        "from statistics import multimode # Python >= 3.8\n",
        "# Dados\n",
        "dados = [1,2,3,4,5]\n",
        "# Calculando a moda\n",
        "multimode(dados)"
      ],
      "execution_count": null,
      "outputs": [
        {
          "output_type": "execute_result",
          "data": {
            "text/plain": [
              "ModeResult(mode=array([1]), count=array([1]))"
            ]
          },
          "metadata": {
            "tags": []
          },
          "execution_count": 67
        }
      ]
    },
    {
      "cell_type": "code",
      "metadata": {
        "colab": {
          "base_uri": "https://localhost:8080/"
        },
        "id": "AWqknnU6XOn1",
        "outputId": "a0a4f18b-3220-49ce-f073-6822d2e5d0cb"
      },
      "source": [
        "%%R\n",
        "# Dados\n",
        "dados=c(1,2,3,4,5)\n",
        "# Instalando a biblioteca\n",
        "#install.packages(\"DescTools\")\n",
        "# Carregando a biblioteca\n",
        "library(DescTools)\n",
        "# Calculando a moda\n",
        "Mode(dados)"
      ],
      "execution_count": null,
      "outputs": [
        {
          "output_type": "stream",
          "text": [
            "[1] NA\n",
            "attr(,\"freq\")\n",
            "[1] 1\n"
          ],
          "name": "stdout"
        }
      ]
    },
    {
      "cell_type": "markdown",
      "metadata": {
        "id": "z2hXVmrfcO1f"
      },
      "source": [
        "## Medidas Separatrizes"
      ]
    },
    {
      "cell_type": "code",
      "metadata": {
        "colab": {
          "base_uri": "https://localhost:8080/"
        },
        "id": "VelvZ4iqWmEF",
        "outputId": "d5a18037-0751-4a71-b3ba-5476a069b18e"
      },
      "source": [
        "# Import da função\n",
        "from statistics import median\n",
        "import numpy as np\n",
        "# Dados\n",
        "dados = [3,1,5,2,3,1,7]\n",
        "# Mediana\n",
        "print(median(dados))\n",
        "print(np.quantile(dados, 0.25))\n",
        "print(np.quantile(dados, 0.75))"
      ],
      "execution_count": null,
      "outputs": [
        {
          "output_type": "stream",
          "text": [
            "3\n",
            "1.5\n",
            "4.0\n"
          ],
          "name": "stdout"
        }
      ]
    },
    {
      "cell_type": "code",
      "metadata": {
        "colab": {
          "base_uri": "https://localhost:8080/"
        },
        "id": "QhEvUWBEWmI7",
        "outputId": "155f6dc5-553e-4097-dcb1-382664c56849"
      },
      "source": [
        "%%R\n",
        "# Dados\n",
        "dados = c(3,1,5,2,3,1,7)\n",
        "# Mediana\n",
        "print(median(dados))\n",
        "# Primeiro quartil\n",
        "print(quantile(dados,.25))\n",
        "# Terceiro quartil\n",
        "print(quantile(dados,.75))\n",
        "# Achando o Primeiro quartil (Q1), Segundo quartil(Q2) e Terceiro Quartil (Q3) de uma vez.\n",
        "print(summary(dados))"
      ],
      "execution_count": null,
      "outputs": [
        {
          "output_type": "stream",
          "text": [
            "[1] 3\n",
            "25% \n",
            "1.5 \n",
            "75% \n",
            "  4 \n",
            "   Min. 1st Qu.  Median    Mean 3rd Qu.    Max. \n",
            "  1.000   1.500   3.000   3.143   4.000   7.000 \n"
          ],
          "name": "stdout"
        }
      ]
    },
    {
      "cell_type": "markdown",
      "metadata": {
        "id": "83aT5lgiiX_E"
      },
      "source": [
        "## Medidas de Assimetria"
      ]
    },
    {
      "cell_type": "code",
      "metadata": {
        "colab": {
          "base_uri": "https://localhost:8080/"
        },
        "id": "KAb-vxgXiZs_",
        "outputId": "716ca254-3e2f-4eb4-a8c6-85785aecf8f1"
      },
      "source": [
        "# Import da função\n",
        "from scipy.stats import skew\n",
        "# Dados\n",
        "x = [8.0, 1, 2.5, 4, 28.0]\n",
        "# Calculando a assimetria manualmente\n",
        "n = len(x)\n",
        "mean_ = sum(x) / n\n",
        "var_ = sum((item - mean_)**2 for item in x) / (n - 1)\n",
        "std_ = var_ ** 0.5\n",
        "skew_ = (sum((item - mean_)**3 for item in x) * n / ((n - 1) * (n - 2) * std_**3))\n",
        "# Calculando a assimetria usando a biblioteca\n",
        "skew_\n",
        "# AS > 0 (1.9470432273905929) --> distribuição será assimétrica à direita ou positiva, terá concentração dos valores no gráfico à esquerda e a curva se alongará mais à direita do gráfico)"
      ],
      "execution_count": 10,
      "outputs": [
        {
          "output_type": "execute_result",
          "data": {
            "text/plain": [
              "1.9470432273905929"
            ]
          },
          "metadata": {},
          "execution_count": 10
        }
      ]
    },
    {
      "cell_type": "code",
      "source": [
        "%%R\n",
        "# Instalando a biblioteca\n",
        "#install.packages(\"e1071\")\n",
        "# Carregando a biblioteca\n",
        "library(e1071)\n",
        "# Dados\n",
        "x = c(8.0, 1, 2.5, 4, 28.0)\n",
        "# Calculando a assimetria manualmente\n",
        "n = length(x)\n",
        "mean_ = sum(x) / n\n",
        "a = (sum((x - mean_)**3) * n / ((n - 1) * (n - 2) * sd(x)**3))\n",
        "# Calculando a assimetria usando a biblioteca\n",
        "skewness(x,type = 2)\n",
        "# AS > 0 (1.947043) --> distribuição será assimétrica à direita ou positiva, terá concentração dos valores no gráfico à esquerda e a curva se alongará mais à direita do gráfico)"
      ],
      "metadata": {
        "colab": {
          "base_uri": "https://localhost:8080/"
        },
        "id": "UOUsWx-O4dLa",
        "outputId": "04e3cd97-1fa9-4474-df07-0b123376d6f4"
      },
      "execution_count": 11,
      "outputs": [
        {
          "output_type": "stream",
          "name": "stdout",
          "text": [
            "[1] 1.947043\n"
          ]
        }
      ]
    },
    {
      "cell_type": "markdown",
      "metadata": {
        "id": "-N0tjiEgrfu_"
      },
      "source": [
        "## Medidas de Dispersão"
      ]
    },
    {
      "cell_type": "code",
      "metadata": {
        "colab": {
          "base_uri": "https://localhost:8080/"
        },
        "id": "SxyuKb5FrfXs",
        "outputId": "84fcf9b5-adf9-4072-f5fa-5fe525943b3f"
      },
      "source": [
        "# Imports das bibliotecas\n",
        "from statistics import variance\n",
        "from statistics import stdev\n",
        "from statistics import mean\n",
        "import numpy as np\n",
        "# Dados\n",
        "dados = [3,4,5,6,12]\n",
        "# Amplitude\n",
        "print(np.max(dados)-np.min(dados))\n",
        "# Variância\n",
        "print(variance(dados))\n",
        "# Desvio padrão\n",
        "print(stdev(dados))\n",
        "# Coeficiente de variação\n",
        "print(stdev(dados)/mean(dados)*100)"
      ],
      "execution_count": null,
      "outputs": [
        {
          "output_type": "stream",
          "text": [
            "9\n",
            "12.5\n",
            "3.5355339059327378\n",
            "0.5892556509887896\n",
            "6\n"
          ],
          "name": "stdout"
        }
      ]
    },
    {
      "cell_type": "code",
      "metadata": {
        "colab": {
          "base_uri": "https://localhost:8080/"
        },
        "id": "loejqWOArg_F",
        "outputId": "fd51570c-05f2-41e8-8372-57c84eafe824"
      },
      "source": [
        "%%R\n",
        "# Dados\n",
        "dados = c(3,4,5,6,12)\n",
        "# Amplitude\n",
        "print(diff(range(dados)))\n",
        "# Variância\n",
        "print(var(dados))\n",
        "# Desvio padrão\n",
        "print(sd(dados))\n",
        "# Coeficiente de variação\n",
        "print(sd(dados)/mean(dados)*100)"
      ],
      "execution_count": null,
      "outputs": [
        {
          "output_type": "stream",
          "text": [
            "[1] 9\n",
            "[1] 12.5\n",
            "[1] 3.535534\n",
            "[1] 58.92557\n"
          ],
          "name": "stdout"
        }
      ]
    },
    {
      "cell_type": "markdown",
      "metadata": {
        "id": "MrxrfopTkL_E"
      },
      "source": [
        "## Boxplot"
      ]
    },
    {
      "cell_type": "code",
      "metadata": {
        "colab": {
          "base_uri": "https://localhost:8080/",
          "height": 279
        },
        "id": "zU0SW4I5kNRP",
        "outputId": "7b665c33-6c7e-45c1-8b1c-41271650c582"
      },
      "source": [
        "# Imports das bibliotecas\n",
        "import seaborn as sns\n",
        "import matplotlib.pyplot as plt\n",
        "\n",
        "# Carregando o dataset\n",
        "dados = sns.load_dataset('iris')\n",
        "# Plotando um boxplot por species da característica petal length\n",
        "sns.boxplot(x=dados[\"species\"], y=dados[\"petal_length\"])\n",
        "plt.show()\n"
      ],
      "execution_count": null,
      "outputs": [
        {
          "output_type": "display_data",
          "data": {
            "image/png": "[encoded data removed]",
            "text/plain": [
              "<Figure size 432x288 with 1 Axes>"
            ]
          },
          "metadata": {
            "tags": [],
            "needs_background": "light"
          }
        }
      ]
    },
    {
      "cell_type": "code",
      "metadata": {
        "colab": {
          "base_uri": "https://localhost:8080/",
          "height": 497
        },
        "id": "Dx8NHn18kNbe",
        "outputId": "fde2d262-752f-411b-edc7-e38084793b8a"
      },
      "source": [
        "%%R\n",
        "# Carregando a biblioteca\n",
        "library(ggplot2)\n",
        "# Carregando o dataset nativo Iris\n",
        "dados = iris\n",
        "# Plotando um boxplot por Species da característica Petal.Length\n",
        "ggplot(dados, aes(x=Species, y=Petal.Length, fill=Species)) + \n",
        "  geom_boxplot()"
      ],
      "execution_count": null,
      "outputs": [
        {
          "output_type": "display_data",
          "data": {
            "image/png": "[encoded data removed]"
          },
          "metadata": {
            "tags": []
          }
        }
      ]
    }
  ]
}