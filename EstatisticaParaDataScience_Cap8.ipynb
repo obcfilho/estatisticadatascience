{
  "nbformat": 4,
  "nbformat_minor": 0,
  "metadata": {
    "colab": {
      "provenance": [],
      "toc_visible": true,
      "include_colab_link": true
    },
    "kernelspec": {
      "name": "python3",
      "display_name": "Python 3"
    },
    "language_info": {
      "name": "python"
    }
  },
  "cells": [
    {
      "cell_type": "markdown",
      "metadata": {
        "id": "view-in-github",
        "colab_type": "text"
      },
      "source": [
        "<a href=\"https://colab.research.google.com/github/tatianaesc/estatisticadatascience/blob/master/EstatisticaParaDataScience_Cap8.ipynb\" target=\"_parent\"><img src=\"https://colab.research.google.com/assets/colab-badge.svg\" alt=\"Open In Colab\"/></a>"
      ]
    },
    {
      "cell_type": "markdown",
      "metadata": {
        "id": "2kl5lMjfwAwm"
      },
      "source": [
        "# Capítulo 8 - Experimentação Contínua"
      ]
    },
    {
      "cell_type": "code",
      "metadata": {
        "id": "PWW_l8-nv3Vh",
        "colab": {
          "base_uri": "https://localhost:8080/"
        },
        "outputId": "339abb28-4293-445e-fbc0-8792bef721d2"
      },
      "source": [
        "# Habilita a execução de R no Google Colab\n",
        "%load_ext rpy2.ipython"
      ],
      "execution_count": 26,
      "outputs": [
        {
          "output_type": "stream",
          "name": "stdout",
          "text": [
            "The rpy2.ipython extension is already loaded. To reload it, use:\n",
            "  %reload_ext rpy2.ipython\n"
          ]
        }
      ]
    },
    {
      "cell_type": "markdown",
      "source": [
        "## Teste de Kolmogorov-Smirnov (K-S)"
      ],
      "metadata": {
        "id": "AHQC9KEc42YH"
      }
    },
    {
      "cell_type": "code",
      "source": [
        "from scipy import stats\n",
        "import numpy as np\n",
        "\n",
        "# Amostra de dados que queremos testar (50 elementos: note que este teste\n",
        "# é recomendado para amostras grandes, com pelo menos 30 elementos)\n",
        "amostra = [0.81, 0.85, 0.76, 0.91, 0.94, 0.90, 0.70, 0.83, 0.92, 0.84, 0.72,\n",
        "           0.85, 0.70, 0.75, 0.93, 0.86, 0.94, 0.82, 0.77, 0.83, 0.88, 0.83,\n",
        "           0.93, 0.80, 0.80, 0.77, 0.67, 0.80, 0.85, 0.83, 0.88, 0.81, 0.83,\n",
        "           0.82, 0.78, 0.79, 0.87, 0.83, 0.84, 0.85, 0.84, 0.77, 0.67, 0.87,\n",
        "           0.94, 0.80, 0.70, 0.75, 0.71, 0.78]\n",
        "\n",
        "# Realizando o Teste de Kolmogorov-Smirnov\n",
        "ks_statistic, p_value = stats.kstest(amostra, 'norm')\n",
        "\n",
        "print(f\"Estatística do teste KS: {ks_statistic}\")\n",
        "print(f\"p-valor: {p_value}\")\n",
        "\n",
        "# Interpretando o resultado\n",
        "alpha = 0.05  # Nível de significância escolhido\n",
        "if p_value > alpha:\n",
        "    print(\"A distribuição é normal, pois de acordo com o teste, não há evidências suficientes para rejeitar a hipótese de normalidade.\")\n",
        "else:\n",
        "    print(\"A distribuição não pode ser considerada normal, pois de acordo com o teste, rejeita-se a hipótese de normalidade.\")"
      ],
      "metadata": {
        "id": "EI4yO4CE4J7B",
        "colab": {
          "base_uri": "https://localhost:8080/"
        },
        "outputId": "7d9b0828-3827-4857-c772-66e6d30133b6"
      },
      "execution_count": 27,
      "outputs": [
        {
          "output_type": "stream",
          "name": "stdout",
          "text": [
            "Estatística do teste KS: 0.7485711049046899\n",
            "p-valor: 1.8167127952549e-29\n",
            "A distribuição não pode ser considerada normal, pois de acordo com o teste, rejeita-se a hipótese de normalidade.\n"
          ]
        }
      ]
    },
    {
      "cell_type": "markdown",
      "source": [
        "## Teste de Shapiro-Wilk"
      ],
      "metadata": {
        "id": "YjpHCgWC-MWC"
      }
    },
    {
      "cell_type": "code",
      "source": [
        "from scipy import stats\n",
        "import numpy as np\n",
        "\n",
        "# Amostra de dados que queremos testar (30 elementos: note que este teste\n",
        "# é recomendado para amostras menores, com menos de 50 elementos)\n",
        "amostra = [0.71, 0.84, 0.89, 0.67, 0.90, 0.79, 0.71, 0.74, 0.71, 0.78,\n",
        "           0.75, 0.77, 0.80, 0.92, 0.72, 0.69, 0.66, 0.75, 0.86, 0.76,\n",
        "           0.68, 0.78, 0.87, 0.86, 0.82, 0.74, 0.87, 0.81, 0.95, 0.69]\n",
        "\n",
        "# Realizando o Teste de Shapiro-Wilk\n",
        "shapiro_statistic, p_value = stats.shapiro(amostra)\n",
        "\n",
        "print(f\"Estatística do teste de Shapiro-Wilk (S-W): {shapiro_statistic}\")\n",
        "print(f\"p-valor: {p_value}\")\n",
        "\n",
        "# Interpretando o resultado\n",
        "alpha = 0.05  # Nível de significância escolhido\n",
        "if p_value > alpha:\n",
        "    print(\"A distribuição é normal, pois de acordo com o teste, não há evidências suficientes para rejeitar a hipótese de normalidade.\")\n",
        "else:\n",
        "    print(\"A distribuição não pode ser considerada normal, pois de acordo com o teste, rejeita-se a hipótese de normalidade.\")"
      ],
      "metadata": {
        "id": "rKz9y94--Mf8",
        "colab": {
          "base_uri": "https://localhost:8080/"
        },
        "outputId": "37dcd186-fd73-4ac1-d2d9-08cdb9d538ab"
      },
      "execution_count": 28,
      "outputs": [
        {
          "output_type": "stream",
          "name": "stdout",
          "text": [
            "Estatística do teste de Shapiro-Wilk (S-W): 0.9606984257698059\n",
            "p-valor: 0.32273441553115845\n",
            "A distribuição é normal, pois de acordo com o teste, não há evidências suficientes para rejeitar a hipótese de normalidade.\n"
          ]
        }
      ]
    },
    {
      "cell_type": "markdown",
      "source": [
        "## Teste de Levene"
      ],
      "metadata": {
        "id": "_dvtZwdYEyU-"
      }
    },
    {
      "cell_type": "code",
      "source": [
        "from scipy.stats import levene\n",
        "import numpy as np\n",
        "\n",
        "# Acurácias simuladas do Modelo A e Modelo B\n",
        "acuracias_modelo_a = np.array([0.82, 0.81, 0.83, 0.84, 0.82, 0.80, 0.81, 0.83, 0.85, 0.82])\n",
        "acuracias_modelo_b = np.array([0.76, 0.77, 0.75, 0.78, 0.76, 0.79, 0.75, 0.77, 0.74, 0.76])\n",
        "\n",
        "# Realizando o Teste de Levene para avaliar a homocedasticidade\n",
        "statistic, p_value = levene(acuracias_modelo_a, acuracias_modelo_b)\n",
        "\n",
        "print(f\"Estatística do teste: {statistic}\")\n",
        "print(f\"p-valor: {p_value}\")\n",
        "\n",
        "# Interpretando o resultado\n",
        "alpha = 0.05  # Nível de significância escolhido\n",
        "if p_value > alpha:\n",
        "    print(\"As variâncias são homogêneas. Não há evidências suficientes para rejeitar a hipótese nula.\")\n",
        "else:\n",
        "    print(\"As variâncias não são homogêneas. Rejeita-se a hipótese nula, indicando diferenças significativas nas variâncias entre os grupos.\")"
      ],
      "metadata": {
        "id": "bRZglAduEybX",
        "colab": {
          "base_uri": "https://localhost:8080/"
        },
        "outputId": "119f8dee-dc01-4830-ffef-371abc336aa2"
      },
      "execution_count": 29,
      "outputs": [
        {
          "output_type": "stream",
          "name": "stdout",
          "text": [
            "Estatística do teste: 5.507970293902395e-29\n",
            "p-valor: 1.0\n",
            "As variâncias são homogêneas. Não há evidências suficientes para rejeitar a hipótese nula.\n"
          ]
        }
      ]
    },
    {
      "cell_type": "markdown",
      "source": [
        "## Teste t de Student (ou Student-t)"
      ],
      "metadata": {
        "id": "sxVsmayqIDEq"
      }
    },
    {
      "cell_type": "code",
      "source": [
        "from scipy import stats\n",
        "\n",
        "# Acurácias de dois modelos de Machine Learning em uma tarefa específica\n",
        "acuracias_modelo_1 = [0.82, 0.80, 0.81, 0.79, 0.83]\n",
        "acuracias_modelo_2 = [0.76, 0.75, 0.77, 0.74, 0.78]\n",
        "\n",
        "# Aplicando o teste t de Student\n",
        "t_statistic, p_value = stats.ttest_ind(acuracias_modelo_1, acuracias_modelo_2)\n",
        "\n",
        "# Exibindo os resultados do teste\n",
        "print(\"Estatística de teste:\", t_statistic)\n",
        "print(\"p-valor:\", p_value)\n",
        "\n",
        "# Interpretando o resultado\n",
        "alpha = 0.05  # Nível de significância escolhido\n",
        "if p_value < alpha:\n",
        "    print(\"Rejeita a hipótese nula: as acurácias são estatisticamente diferentes\")\n",
        "else:\n",
        "    print(\"Não há evidência suficiente para rejeitar a hipótese nula: as acurácias são estatisticamente iguais\")"
      ],
      "metadata": {
        "colab": {
          "base_uri": "https://localhost:8080/"
        },
        "id": "O1CLT9yZoUEU",
        "outputId": "97720d73-0854-4e0b-8fe3-2eb0b280177e"
      },
      "execution_count": 30,
      "outputs": [
        {
          "output_type": "stream",
          "name": "stdout",
          "text": [
            "Estatística de teste: 4.999999999999986\n",
            "p-valor: 0.0010528257933665572\n",
            "Rejeita a hipótese nula: as acurácias são estatisticamente diferentes\n"
          ]
        }
      ]
    },
    {
      "cell_type": "markdown",
      "source": [
        "## Teste de Análise de Variância (ANOVA)"
      ],
      "metadata": {
        "id": "DLeZxQSUI492"
      }
    },
    {
      "cell_type": "code",
      "source": [
        "from scipy import stats\n",
        "\n",
        "# Acurácias de três modelos de Machine Learning\n",
        "acuracias_modelo_a = [0.82, 0.81, 0.83, 0.84, 0.82]\n",
        "acuracias_modelo_b = [0.75, 0.77, 0.76, 0.74, 0.75]\n",
        "acuracias_modelo_c = [0.89, 0.90, 0.91, 0.88, 0.87]\n",
        "\n",
        "# Aplicando ANOVA\n",
        "f_statistic, p_value = stats.f_oneway(acuracias_modelo_a, acuracias_modelo_b, acuracias_modelo_c)\n",
        "\n",
        "# Exibindo os resultados do teste\n",
        "print(\"Estatística de teste:\", f_statistic)\n",
        "print(\"p-valor:\", p_value)\n",
        "\n",
        "# Interpretando o resultado\n",
        "alpha = 0.05  # Nível de significância escolhido\n",
        "if p_value < alpha:\n",
        "    print(\"Rejeita a hipótese nula: as acurácias são estatisticamente diferentes\")\n",
        "else:\n",
        "    print(\"Não há evidência suficiente para rejeitar a hipótese nula: as acurácias são estatisticamente iguais\")\n"
      ],
      "metadata": {
        "id": "JdhoHdfLI5ED",
        "colab": {
          "base_uri": "https://localhost:8080/"
        },
        "outputId": "b3733ae6-c867-4842-9e14-46ebef09733a"
      },
      "execution_count": 31,
      "outputs": [
        {
          "output_type": "stream",
          "name": "stdout",
          "text": [
            "Estatística de teste: 136.03921568627453\n",
            "p-valor: 5.6814332556353306e-09\n",
            "Rejeita a hipótese nula: as acurácias são estatisticamente diferentes\n"
          ]
        }
      ]
    },
    {
      "cell_type": "markdown",
      "source": [
        "## Teste de Tukey"
      ],
      "metadata": {
        "id": "WZ79f6EAK34l"
      }
    },
    {
      "cell_type": "code",
      "source": [
        "from statsmodels.stats.multicomp import pairwise_tukeyhsd\n",
        "import numpy as np\n",
        "\n",
        "# Acurácias de três modelos de Machine Learning e seus respectivos grupos\n",
        "acuracias = np.array([0.82, 0.81, 0.83, 0.84, 0.82, 0.75, 0.77, 0.76, 0.74, 0.75, 0.89, 0.90, 0.91, 0.88, 0.87])\n",
        "# Rótulos para identificar as acurácias de cada modelo\n",
        "grupos = ['Modelo A'] * 5 + ['Modelo B'] * 5 + ['Modelo C'] * 5\n",
        "\n",
        "# Aplicando o teste de Tukey\n",
        "tukey_resultados = pairwise_tukeyhsd(acuracias, grupos)\n",
        "\n",
        "# Exibindo os resultados do teste\n",
        "print(tukey_resultados)"
      ],
      "metadata": {
        "colab": {
          "base_uri": "https://localhost:8080/"
        },
        "id": "ODEtVFm0plLH",
        "outputId": "9eb82002-adf3-40fe-cb43-f16a4db53b61"
      },
      "execution_count": 32,
      "outputs": [
        {
          "output_type": "stream",
          "name": "stdout",
          "text": [
            " Multiple Comparison of Means - Tukey HSD, FWER=0.05 \n",
            "=====================================================\n",
            " group1   group2  meandiff p-adj lower  upper  reject\n",
            "-----------------------------------------------------\n",
            "Modelo A Modelo B    -0.07   0.0 -0.092 -0.048   True\n",
            "Modelo A Modelo C    0.066   0.0  0.044  0.088   True\n",
            "Modelo B Modelo C    0.136   0.0  0.114  0.158   True\n",
            "-----------------------------------------------------\n"
          ]
        }
      ]
    },
    {
      "cell_type": "code",
      "source": [
        "from statsmodels.stats.multicomp import pairwise_tukeyhsd\n",
        "import numpy as np\n",
        "\n",
        "# Acurácias de três modelos de Machine Learning com diferenças não significativas\n",
        "# Simulando dados onde as acurácias dos modelos são mais próximas entre si\n",
        "acuracias_similares = np.array([0.82, 0.83, 0.81, 0.82, 0.83, 0.81, 0.82, 0.83, 0.81, 0.82,\n",
        "                                0.82, 0.83, 0.81, 0.82, 0.83])\n",
        "# Rótulos para identificar as acurácias de cada modelo\n",
        "grupos_similares = ['Modelo X'] * 5 + ['Modelo Y'] * 5 + ['Modelo Z'] * 5\n",
        "\n",
        "# Aplicando o teste de Tukey\n",
        "tukey_resultados_similares = pairwise_tukeyhsd(acuracias_similares, grupos_similares)\n",
        "\n",
        "print(tukey_resultados_similares)"
      ],
      "metadata": {
        "colab": {
          "base_uri": "https://localhost:8080/"
        },
        "id": "2Zyapxpsr_tM",
        "outputId": "1b1d7bc6-e8fc-4b3e-df7e-9ca1407a2fe8"
      },
      "execution_count": 33,
      "outputs": [
        {
          "output_type": "stream",
          "name": "stdout",
          "text": [
            "  Multiple Comparison of Means - Tukey HSD, FWER=0.05  \n",
            "=======================================================\n",
            " group1   group2  meandiff p-adj   lower  upper  reject\n",
            "-------------------------------------------------------\n",
            "Modelo X Modelo Y   -0.004 0.7359 -0.0181 0.0101  False\n",
            "Modelo X Modelo Z      0.0    1.0 -0.0141 0.0141  False\n",
            "Modelo Y Modelo Z    0.004 0.7359 -0.0101 0.0181  False\n",
            "-------------------------------------------------------\n"
          ]
        }
      ]
    },
    {
      "cell_type": "markdown",
      "source": [
        "## Teste de Mann-Whitney"
      ],
      "metadata": {
        "id": "-HQZPoDRKDTu"
      }
    },
    {
      "cell_type": "code",
      "source": [
        "from scipy.stats import mannwhitneyu\n",
        "import numpy as np\n",
        "\n",
        "# Acurácias simuladas do Modelo 1 e Modelo 2\n",
        "acuracias_modelo_1 = np.random.beta(a=2.5, b=5, size=30) * 100  # Multiplicado por 100 para representar porcentagem\n",
        "acuracias_modelo_2 = np.random.beta(a=2, b=5, size=30) * 100  # Multiplicado por 100 para representar porcentagem\n",
        "\n",
        "# Aplicando o teste de Mann-Whitney\n",
        "u_statistic, p_value = mannwhitneyu(acuracias_modelo_1, acuracias_modelo_2, alternative='two-sided')\n",
        "\n",
        "# Exibindo os resultados do teste\n",
        "print(\"Estatística de teste:\", u_statistic)\n",
        "print(\"p-valor:\", p_value)\n",
        "\n",
        "# Interpretando o resultado\n",
        "alpha = 0.05  # Nível de significância escolhido\n",
        "if p_value < alpha:\n",
        "    print(\"Rejeita a hipótese nula: as acurácias são estatisticamente diferentes\")\n",
        "else:\n",
        "    print(\"Não há evidência suficiente para rejeitar a hipótese nula: as acurácias são estatisticamente iguais\")"
      ],
      "metadata": {
        "id": "U72ghxVKKDan",
        "colab": {
          "base_uri": "https://localhost:8080/"
        },
        "outputId": "d0494d3d-a002-433e-a7ab-78caced79222"
      },
      "execution_count": 34,
      "outputs": [
        {
          "output_type": "stream",
          "name": "stdout",
          "text": [
            "Estatística de teste: 491.0\n",
            "p-valor: 0.5493267842679926\n",
            "Não há evidência suficiente para rejeitar a hipótese nula: as acurácias são estatisticamente iguais\n"
          ]
        }
      ]
    },
    {
      "cell_type": "markdown",
      "source": [
        "## Teste de Kruskal-Wallis"
      ],
      "metadata": {
        "id": "e6KctOlkMQDE"
      }
    },
    {
      "cell_type": "code",
      "source": [
        "from scipy.stats import kruskal\n",
        "import numpy as np\n",
        "\n",
        "# Acurácias simuladas dos Modelos A, B e C\n",
        "acuracias_modelo_a = [0.82, 0.93, 0.77, 0.76, 0.77, 0.75, 0.71, 0.78, 0.84, 0.79,\n",
        "                      0.81, 0.81, 0.66, 0.94, 0.88, 0.94, 0.94, 0.9, 0.81, 0.65,\n",
        "                      0.73, 0.67, 0.91, 0.89, 0.74, 0.82, 0.7, 0.83, 0.92, 0.84,\n",
        "                      0.83, 0.87, 0.88, 0.84, 0.84, 0.94, 0.78, 0.75, 0.88, 0.89]\n",
        "acuracias_modelo_b = [0.73, 0.69, 0.72, 0.79, 0.84, 0.73, 0.72, 0.68, 0.92, 0.75,\n",
        "                      0.68, 0.73, 0.87, 0.67, 0.9, 0.94, 0.88, 0.88, 0.92, 0.8,\n",
        "                      0.82, 0.87, 0.8, 0.87, 0.89, 0.72, 0.68, 0.82, 0.72, 0.68,\n",
        "                      0.73, 0.83, 0.73, 0.88, 0.89, 0.94, 0.71, 0.9, 0.74, 0.9]\n",
        "acuracias_modelo_c = [0.7, 0.87, 0.78, 0.84, 0.73, 0.78, 0.89, 0.93, 0.86, 0.85,\n",
        "                      0.92, 0.85, 0.68, 0.93, 0.94, 0.74, 0.82, 0.81, 0.72, 0.84,\n",
        "                      0.85, 0.8, 0.71, 0.86, 0.9, 0.7, 0.65, 0.93, 0.8, 0.73,\n",
        "                      0.73, 0.76, 0.93, 0.7, 0.79, 0.87, 0.87, 0.86, 0.83, 0.91]\n",
        "\n",
        "# Aplicando o teste de Kruskal-Wallis para avaliar diferenças entre as acurácias dos modelos\n",
        "h_statistic, p_value = kruskal(acuracias_modelo_a, acuracias_modelo_b, acuracias_modelo_c)\n",
        "\n",
        "# Exibindo os resultados do teste\n",
        "print(\"Estatística de teste:\", h_statistic)\n",
        "print(\"p-valor:\", p_value)\n",
        "\n",
        "# Interpretando o resultado\n",
        "alpha = 0.05  # Nível de significância escolhido\n",
        "if p_value < alpha:\n",
        "    print(\"Rejeita a hipótese nula: as acurácias são estatisticamente diferentes\")\n",
        "else:\n",
        "    print(\"Não há evidência suficiente para rejeitar a hipótese nula: as acurácias são estatisticamente iguais\")"
      ],
      "metadata": {
        "id": "AccMzwXgMQLo",
        "colab": {
          "base_uri": "https://localhost:8080/"
        },
        "outputId": "821f69a1-385b-42f0-b61c-772bf403b42d"
      },
      "execution_count": 35,
      "outputs": [
        {
          "output_type": "stream",
          "name": "stdout",
          "text": [
            "Estatística de teste: 1.3169266267289885\n",
            "p-valor: 0.5176461835905364\n",
            "Não há evidência suficiente para rejeitar a hipótese nula: as acurácias são estatisticamente iguais\n"
          ]
        }
      ]
    },
    {
      "cell_type": "markdown",
      "source": [
        "## Effect Size"
      ],
      "metadata": {
        "id": "80VCfOlpjDuo"
      }
    },
    {
      "cell_type": "code",
      "source": [
        "import numpy as np\n",
        "from scipy import stats\n",
        "\n",
        "# Acurácias dos modelos A e B\n",
        "modelo_A = np.array([0.78, 0.82, 0.85, 0.79, 0.81])\n",
        "modelo_B = np.array([0.88, 0.92, 0.90, 0.89, 0.91])\n",
        "\n",
        "# Calculando as médias e os desvios padrão das pontuações\n",
        "media_A = np.mean(modelo_A)\n",
        "media_B = np.mean(modelo_B)\n",
        "desvio_padrao_A = np.std(modelo_A, ddof=1)  # Usando ddof=1 para calcular o desvio padrão amostral\n",
        "desvio_padrao_B = np.std(modelo_B, ddof=1)\n",
        "\n",
        "# Calculando a diferença nas médias\n",
        "diferenca_medias = media_B - media_A\n",
        "\n",
        "# Calculando o Effect Size usando Cohen's d\n",
        "effect_size = diferenca_medias / np.sqrt((desvio_padrao_A ** 2 + desvio_padrao_B ** 2) / 2)\n",
        "\n",
        "# Realizando um teste de hipótese para determinar a significância estatística\n",
        "t_stat, p_valor = stats.ttest_ind(modelo_A, modelo_B)\n",
        "\n",
        "# Imprimindo os resultados\n",
        "print(f'Média do Modelo A: {media_A:.2f}')\n",
        "print(f'Média do Modelo B: {media_B:.2f}')\n",
        "print(f'Diferença nas Médias: {diferenca_medias:.2f}')\n",
        "print(f'Effect Size (Cohen\\'s d): {effect_size:.2f}')\n",
        "print(f'p-valor: {p_valor:.4f}')\n",
        "\n",
        "# Interpretando o resultado\n",
        "alpha = 0.05  # Nível de significância escolhido\n",
        "if p_valor < alpha:\n",
        "    print(\"Rejeita a hipótese nula: as acurácias são estatisticamente diferentes\")\n",
        "else:\n",
        "    print(\"Não há evidência suficiente para rejeitar a hipótese nula: as acurácias são estatisticamente iguais\")"
      ],
      "metadata": {
        "id": "UiDFAaVgjHvf",
        "colab": {
          "base_uri": "https://localhost:8080/"
        },
        "outputId": "21838122-528c-45ce-dc35-1293e503090e"
      },
      "execution_count": 36,
      "outputs": [
        {
          "output_type": "stream",
          "name": "stdout",
          "text": [
            "Média do Modelo A: 0.81\n",
            "Média do Modelo B: 0.90\n",
            "Diferença nas Médias: 0.09\n",
            "Effect Size (Cohen's d): 4.02\n",
            "p-valor: 0.0002\n",
            "Rejeita a hipótese nula: as acurácias são estatisticamente diferentes\n"
          ]
        }
      ]
    }
  ]
}