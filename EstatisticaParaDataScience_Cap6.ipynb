{
  "nbformat": 4,
  "nbformat_minor": 0,
  "metadata": {
    "colab": {
      "provenance": [],
      "toc_visible": true,
      "authorship_tag": "ABX9TyOyMGU4GB0KEv8+o9CZ0qOI",
      "include_colab_link": true
    },
    "kernelspec": {
      "name": "python3",
      "display_name": "Python 3"
    },
    "language_info": {
      "name": "python"
    }
  },
  "cells": [
    {
      "cell_type": "markdown",
      "metadata": {
        "id": "view-in-github",
        "colab_type": "text"
      },
      "source": [
        "<a href=\"https://colab.research.google.com/github/tatianaesc/estatisticadatascience/blob/master/EstatisticaParaDataScience_Cap6.ipynb\" target=\"_parent\"><img src=\"https://colab.research.google.com/assets/colab-badge.svg\" alt=\"Open In Colab\"/></a>"
      ]
    },
    {
      "cell_type": "markdown",
      "source": [
        "# Capítulo 6 - Inferência Estatística: Noções de Amostragem e Reamostragem"
      ],
      "metadata": {
        "id": "y5KIKR9AeN9d"
      }
    },
    {
      "cell_type": "code",
      "execution_count": 38,
      "metadata": {
        "id": "_QVz2-TceHoi",
        "colab": {
          "base_uri": "https://localhost:8080/"
        },
        "outputId": "8789b955-511a-4d4b-b224-bfe1e978cd32"
      },
      "outputs": [
        {
          "output_type": "stream",
          "name": "stdout",
          "text": [
            "The rpy2.ipython extension is already loaded. To reload it, use:\n",
            "  %reload_ext rpy2.ipython\n"
          ]
        }
      ],
      "source": [
        "# Habilita a execução de R no Google Colab\n",
        "%load_ext rpy2.ipython"
      ]
    },
    {
      "cell_type": "markdown",
      "source": [
        "## Teorema Central do Limite"
      ],
      "metadata": {
        "id": "mYQXoqF1SiB9"
      }
    },
    {
      "cell_type": "code",
      "source": [
        "# Imports de bibliotecas\n",
        "from sklearn.utils import resample\n",
        "from matplotlib import pyplot as plt\n",
        "import random\n",
        "import statistics\n",
        "\n",
        "# Dataset original\n",
        "\n",
        "# Gerando 500 números aleatórios limitados ao valor 1000\n",
        "lista_numeros = random.sample(range(1000), 500)\n",
        "\n",
        "# Plotando o histograma da lista_numeros\n",
        "plt.hist(lista_numeros, 50)\n",
        "plt.show()"
      ],
      "metadata": {
        "colab": {
          "base_uri": "https://localhost:8080/",
          "height": 430
        },
        "id": "8II1btgASq5q",
        "outputId": "e0f22400-dde7-4b3a-d02a-30a2f074eeaf"
      },
      "execution_count": 39,
      "outputs": [
        {
          "output_type": "display_data",
          "data": {
            "text/plain": [
              "<Figure size 640x480 with 1 Axes>"
            ],
            "image/png": "[encoded data removed]"
          },
          "metadata": {}
        }
      ]
    },
    {
      "cell_type": "code",
      "source": [
        "# 500 médias de 5 elementos - Os resultados podem variar devido à aleatoriedade da amostragem!\n",
        "\n",
        "lista_medias_1 = []\n",
        "\n",
        "for x in range (0,500): # 500 vezes\n",
        "    # amostragem de tamanho 5, com reposição\n",
        "    amostra = resample(lista_numeros, replace=True, n_samples=5)\n",
        "    media = statistics.mean(amostra) # calcula a média\n",
        "    lista_medias_1.append(media) # adiciona a média na lista\n",
        "\n",
        "# Plotando o histograma das 500 médias de n = 5 elementos\n",
        "plt.hist(lista_medias_1, 50)\n",
        "plt.xlim(0, 1000)\n",
        "plt.show()"
      ],
      "metadata": {
        "colab": {
          "base_uri": "https://localhost:8080/",
          "height": 430
        },
        "id": "MSzAp30TSrA4",
        "outputId": "5f53f5f4-24e1-450e-9774-c1a6f52895d1"
      },
      "execution_count": 40,
      "outputs": [
        {
          "output_type": "display_data",
          "data": {
            "text/plain": [
              "<Figure size 640x480 with 1 Axes>"
            ],
            "image/png": "[encoded data removed]"
          },
          "metadata": {}
        }
      ]
    },
    {
      "cell_type": "code",
      "source": [
        "# 500 médias de 20 elementos - Os resultados podem variar devido à aleatoriedade da amostragem!\n",
        "\n",
        "lista_medias_2 = []\n",
        "\n",
        "for x in range (0,500): # 500 vezes\n",
        "    # amostragem de tamanho 20, com reposição\n",
        "    amostra = resample(lista_numeros, replace=True, n_samples=20)\n",
        "    media = statistics.mean(amostra) # calcula a média\n",
        "    lista_medias_2.append(media) # adiciona a média na lista\n",
        "\n",
        "# Plotando o histograma das 500 médias de n = 20 elementos\n",
        "plt.hist(lista_medias_2, 50)\n",
        "plt.xlim(0, 1000)\n",
        "plt.show()"
      ],
      "metadata": {
        "colab": {
          "base_uri": "https://localhost:8080/",
          "height": 430
        },
        "id": "x1wEShavSrDH",
        "outputId": "7468bb3b-10de-4208-b24b-38f9f63e1c37"
      },
      "execution_count": 41,
      "outputs": [
        {
          "output_type": "display_data",
          "data": {
            "text/plain": [
              "<Figure size 640x480 with 1 Axes>"
            ],
            "image/png": "[encoded data removed]"
          },
          "metadata": {}
        }
      ]
    },
    {
      "cell_type": "markdown",
      "source": [
        "## Amostragem Aleatória Simples (AAS)"
      ],
      "metadata": {
        "id": "dQ20i3qdeWoL"
      }
    },
    {
      "cell_type": "code",
      "source": [
        "%%R\n",
        "# Fixando a semente aleatória para garantir a reprodutibilidade dos resultados\n",
        "set.seed(7)\n",
        "\n",
        "# População a ser amostrada\n",
        "populacao = c(1,2,3,4,5,6,7,8,9,10)\n",
        "\n",
        "# AAS com reposição de tamanho 5\n",
        "print(sample(populacao, size=5, replace=T))\n",
        "\n",
        "# AAS sem reposição de tamanho 7\n",
        "print(sample(populacao, size=7, replace=F))"
      ],
      "metadata": {
        "colab": {
          "base_uri": "https://localhost:8080/"
        },
        "id": "9wIOAWAgeZoQ",
        "outputId": "833b49cb-6470-4422-83d9-30c9ce6d42f8"
      },
      "execution_count": 42,
      "outputs": [
        {
          "output_type": "stream",
          "name": "stdout",
          "text": [
            "[1] 10  3  7  2 10\n",
            "[1]  6  8  9  3 10  7  2\n"
          ]
        }
      ]
    },
    {
      "cell_type": "code",
      "source": [
        "# Imports de bibliotecas\n",
        "from sklearn.utils import resample\n",
        "\n",
        "# População a ser amostrada\n",
        "populacao = [1,2,3,4,5,6,7,8,9,10]\n",
        "\n",
        "# AAS com reposição de tamanho 5\n",
        "print(resample(populacao, replace=True, n_samples=5, random_state=7))\n",
        "\n",
        "# AAS sem reposição de tamanho 7\n",
        "print(resample(populacao, replace=False, n_samples=7, random_state=7))"
      ],
      "metadata": {
        "colab": {
          "base_uri": "https://localhost:8080/"
        },
        "id": "29sLYTe6fE9S",
        "outputId": "105edb76-2496-4df8-d05c-2fb14a39a96f"
      },
      "execution_count": 43,
      "outputs": [
        {
          "output_type": "stream",
          "name": "stdout",
          "text": [
            "[5, 10, 7, 4, 4]\n",
            "[9, 6, 1, 3, 2, 10, 8]\n"
          ]
        }
      ]
    },
    {
      "cell_type": "markdown",
      "source": [
        "## Amostragem Sistemática (AS)"
      ],
      "metadata": {
        "id": "ElSJFC0GhXv9"
      }
    },
    {
      "cell_type": "code",
      "source": [
        "%%R\n",
        "# Fixando a semente aleatória para garantir a reprodutibilidade dos resultados\n",
        "set.seed(7)\n",
        "\n",
        "# Queremos escolher uma amostra (n) de 5 fichas, dentre uma população (N) de 5000 fichas:               -\n",
        "n = 5\n",
        "N = 5000\n",
        "\n",
        "# Calculando o valor de k\n",
        "k = floor(N / n)  # 1000 (divisão inteira)\n",
        "\n",
        "# Sorteio da partida aleatória entre 1 e k\n",
        "r = sample(1:k, size = 1)\n",
        "\n",
        "# Gerando a amostra sistemática\n",
        "amostra = seq(r, N, by = k)\n",
        "\n",
        "# Exibindo a amostra\n",
        "print(amostra)"
      ],
      "metadata": {
        "colab": {
          "base_uri": "https://localhost:8080/"
        },
        "id": "diG-FgGijwXu",
        "outputId": "dd8e7088-4861-4e45-a770-70d2ec5cba0f"
      },
      "execution_count": 44,
      "outputs": [
        {
          "output_type": "stream",
          "name": "stdout",
          "text": [
            "[1]  298 1298 2298 3298 4298\n"
          ]
        }
      ]
    },
    {
      "cell_type": "code",
      "source": [
        "# Imports de bibliotecas\n",
        "import random\n",
        "\n",
        "# Fixando a semente aleatória para garantir a reprodutibilidade dos resultados\n",
        "random.seed(7)\n",
        "\n",
        "# Queremos escolher uma amostra (n) de 5 fichas, dentre uma população (N) de 5000 fichas:               -\n",
        "n = 5\n",
        "N = 5000\n",
        "\n",
        "# Calculando o valor de k\n",
        "k = N // n  # 1000 (divisão inteira)\n",
        "\n",
        "# Sorteio da partida aleatória entre 1 e k\n",
        "r = random.randint(1, k)\n",
        "\n",
        "# Gerando a amostra sistemática\n",
        "amostra = list(range(r, N + 1, k))\n",
        "\n",
        "# Exibindo a amostra\n",
        "print(amostra)"
      ],
      "metadata": {
        "colab": {
          "base_uri": "https://localhost:8080/"
        },
        "id": "TV7dN7U1hZQQ",
        "outputId": "53d0d3ef-6c38-47fc-cf59-5ef9fb05cf8b"
      },
      "execution_count": 45,
      "outputs": [
        {
          "output_type": "stream",
          "name": "stdout",
          "text": [
            "[332, 1332, 2332, 3332, 4332]\n"
          ]
        }
      ]
    },
    {
      "cell_type": "markdown",
      "source": [
        "## Amostragem Estratificada (AE)"
      ],
      "metadata": {
        "id": "GrtxtcpqskDu"
      }
    },
    {
      "cell_type": "code",
      "source": [
        "%%R\n",
        "# Tamanho da amostra (n) e dos estratos de população (N1 a N4)\n",
        "n = 80\n",
        "N1 = 500\n",
        "N2 = 1200\n",
        "N3 = 200\n",
        "N4 = 100\n",
        "\n",
        "# Tamanho total da população\n",
        "N = N1 + N2 + N3 + N4\n",
        "\n",
        "# Fração amostral\n",
        "f = n / N\n",
        "\n",
        "# Calculando os n´s para cada extrato com alocação proporcional ao tamanho do estrato\n",
        "n1 = f*N1\n",
        "n2 = f*N2\n",
        "n3 = f*N3\n",
        "n4 = f*N4\n",
        "\n",
        "# Exibindo os tamanhos das amostras dos estratos\n",
        "cbind(n1, n2, n3, n4)"
      ],
      "metadata": {
        "colab": {
          "base_uri": "https://localhost:8080/"
        },
        "id": "_ok7yImPswdl",
        "outputId": "380830b5-6b85-409d-eed7-61005afffdc3"
      },
      "execution_count": 46,
      "outputs": [
        {
          "output_type": "stream",
          "name": "stdout",
          "text": [
            "     n1 n2 n3 n4\n",
            "[1,] 20 48  8  4\n"
          ]
        }
      ]
    },
    {
      "cell_type": "code",
      "source": [
        "# Tamanho da amostra (n) e dos estratos de população (N1 a N4)\n",
        "n = 80\n",
        "N1 = 500\n",
        "N2 = 1200\n",
        "N3 = 200\n",
        "N4 = 100\n",
        "\n",
        "# Tamanho total da população\n",
        "N = N1 + N2 + N3 + N4\n",
        "\n",
        "# Fração amostral\n",
        "f = n / N\n",
        "\n",
        "# Calculando os n´s para cada extrato com alocação proporcional ao tamanho do estrato\n",
        "n1 = f*N1\n",
        "n2 = f*N2\n",
        "n3 = f*N3\n",
        "n4 = f*N4\n",
        "\n",
        "# Exibindo os tamanhos das amostras dos estratos\n",
        "print(\"n1=%d n2=%d n3=%d n4=%d\" % (n1, n2, n3, n4))"
      ],
      "metadata": {
        "colab": {
          "base_uri": "https://localhost:8080/"
        },
        "id": "dDZDqPZbtJJy",
        "outputId": "535bfc44-c4f4-4cf8-9cbe-1c4e98dc7654"
      },
      "execution_count": 47,
      "outputs": [
        {
          "output_type": "stream",
          "name": "stdout",
          "text": [
            "n1=20 n2=48 n3=8 n4=4\n"
          ]
        }
      ]
    },
    {
      "cell_type": "code",
      "source": [
        "# Imports de bibliotecas\n",
        "import pandas as pd\n",
        "from sklearn.datasets import load_breast_cancer\n",
        "from sklearn.model_selection import train_test_split\n",
        "\n",
        "# Carregando o dataset Breast Cancer, convertendo para DataFrame e separando em X (atributos) e y (classe)\n",
        "dataset = load_breast_cancer()\n",
        "X = pd.DataFrame(dataset.data)\n",
        "y = pd.DataFrame(dataset.target)\n",
        "\n",
        "# Dividindo o dataset em conjuntos de treino (80%) e teste (20%), estratificando por y (classe do problema)\n",
        "X_train, X_test, y_train, y_test = train_test_split(X, y, test_size=0.2, stratify=y, random_state = 7)\n",
        "\n",
        "# Exibindo o tamanho de cada conjunto\n",
        "print(\"X: {}\".format(X.shape) + \" - Y: {}\".format(y.shape))\n",
        "print(\"X_train: {}\".format(X_train.shape) + \" - y_train: {}\".format(y_train.shape))\n",
        "print(\"X_test: {}\".format(X_test.shape) + \" - y_test: {}\".format(y_test.shape))"
      ],
      "metadata": {
        "colab": {
          "base_uri": "https://localhost:8080/"
        },
        "id": "PZ_zrQjDxj2P",
        "outputId": "efaa7329-29e2-455e-b0d3-cc37f65fd469"
      },
      "execution_count": 48,
      "outputs": [
        {
          "output_type": "stream",
          "name": "stdout",
          "text": [
            "X: (569, 30) - Y: (569, 1)\n",
            "X_train: (455, 30) - y_train: (455, 1)\n",
            "X_test: (114, 30) - y_test: (114, 1)\n"
          ]
        }
      ]
    },
    {
      "cell_type": "markdown",
      "source": [
        "## Amostragem por Conglomerado ou Cluster (AC)"
      ],
      "metadata": {
        "id": "XNwcCzSBhIH6"
      }
    },
    {
      "cell_type": "code",
      "source": [
        "# Imports de bibliotecas\n",
        "import pandas as pd\n",
        "from sklearn.datasets import load_breast_cancer\n",
        "\n",
        "# Carregando o dataset Breast Cancer, convertendo para DataFrame e adicionando a varável target\n",
        "dataset = load_breast_cancer()\n",
        "df = pd.DataFrame(dataset.data, columns=dataset.feature_names)\n",
        "df['target'] = dataset.target\n",
        "\n",
        "# Dimensões do dataset original\n",
        "print(df.shape)\n",
        "\n",
        "# Amostragem por conglomerado - a amostra terá tamanho 50\n",
        "amostra = df.sample(50, random_state=7)\n",
        "\n",
        "# Dimensões da amostra\n",
        "print(amostra.shape)"
      ],
      "metadata": {
        "colab": {
          "base_uri": "https://localhost:8080/"
        },
        "id": "2PtBXHUjhJIo",
        "outputId": "12599cb4-cd36-4b02-f965-de151be23e81"
      },
      "execution_count": 49,
      "outputs": [
        {
          "output_type": "stream",
          "name": "stdout",
          "text": [
            "(569, 31)\n",
            "(50, 31)\n"
          ]
        }
      ]
    },
    {
      "cell_type": "code",
      "source": [
        "%%R\n",
        "# Fixando a semente aleatória para garantir a reprodutibilidade dos resultados\n",
        "set.seed(7)\n",
        "\n",
        "# Queremos escolher uma amostra (n) de 1000 fichas, dentre uma população (N) de 5000 fichas:               -\n",
        "n = 1000\n",
        "N = 5000\n",
        "\n",
        "# Calculando o valor de k\n",
        "k = N / n # 5\n",
        "\n",
        "# Sortearemos um valor r entre 1 e k (partida aleatória)\n",
        "r = sample(k, size=1)\n",
        "\n",
        "# Amostra\n",
        "print(seq(r, N ,k))"
      ],
      "metadata": {
        "colab": {
          "base_uri": "https://localhost:8080/"
        },
        "id": "Q5oxH4xShZGy",
        "outputId": "f1abbe49-0a95-44ca-8dfa-26495d0605bd"
      },
      "execution_count": 50,
      "outputs": [
        {
          "output_type": "stream",
          "name": "stdout",
          "text": [
            "   [1]    2    7   12   17   22   27   32   37   42   47   52   57   62   67\n",
            "  [15]   72   77   82   87   92   97  102  107  112  117  122  127  132  137\n",
            "  [29]  142  147  152  157  162  167  172  177  182  187  192  197  202  207\n",
            "  [43]  212  217  222  227  232  237  242  247  252  257  262  267  272  277\n",
            "  [57]  282  287  292  297  302  307  312  317  322  327  332  337  342  347\n",
            "  [71]  352  357  362  367  372  377  382  387  392  397  402  407  412  417\n",
            "  [85]  422  427  432  437  442  447  452  457  462  467  472  477  482  487\n",
            "  [99]  492  497  502  507  512  517  522  527  532  537  542  547  552  557\n",
            " [113]  562  567  572  577  582  587  592  597  602  607  612  617  622  627\n",
            " [127]  632  637  642  647  652  657  662  667  672  677  682  687  692  697\n",
            " [141]  702  707  712  717  722  727  732  737  742  747  752  757  762  767\n",
            " [155]  772  777  782  787  792  797  802  807  812  817  822  827  832  837\n",
            " [169]  842  847  852  857  862  867  872  877  882  887  892  897  902  907\n",
            " [183]  912  917  922  927  932  937  942  947  952  957  962  967  972  977\n",
            " [197]  982  987  992  997 1002 1007 1012 1017 1022 1027 1032 1037 1042 1047\n",
            " [211] 1052 1057 1062 1067 1072 1077 1082 1087 1092 1097 1102 1107 1112 1117\n",
            " [225] 1122 1127 1132 1137 1142 1147 1152 1157 1162 1167 1172 1177 1182 1187\n",
            " [239] 1192 1197 1202 1207 1212 1217 1222 1227 1232 1237 1242 1247 1252 1257\n",
            " [253] 1262 1267 1272 1277 1282 1287 1292 1297 1302 1307 1312 1317 1322 1327\n",
            " [267] 1332 1337 1342 1347 1352 1357 1362 1367 1372 1377 1382 1387 1392 1397\n",
            " [281] 1402 1407 1412 1417 1422 1427 1432 1437 1442 1447 1452 1457 1462 1467\n",
            " [295] 1472 1477 1482 1487 1492 1497 1502 1507 1512 1517 1522 1527 1532 1537\n",
            " [309] 1542 1547 1552 1557 1562 1567 1572 1577 1582 1587 1592 1597 1602 1607\n",
            " [323] 1612 1617 1622 1627 1632 1637 1642 1647 1652 1657 1662 1667 1672 1677\n",
            " [337] 1682 1687 1692 1697 1702 1707 1712 1717 1722 1727 1732 1737 1742 1747\n",
            " [351] 1752 1757 1762 1767 1772 1777 1782 1787 1792 1797 1802 1807 1812 1817\n",
            " [365] 1822 1827 1832 1837 1842 1847 1852 1857 1862 1867 1872 1877 1882 1887\n",
            " [379] 1892 1897 1902 1907 1912 1917 1922 1927 1932 1937 1942 1947 1952 1957\n",
            " [393] 1962 1967 1972 1977 1982 1987 1992 1997 2002 2007 2012 2017 2022 2027\n",
            " [407] 2032 2037 2042 2047 2052 2057 2062 2067 2072 2077 2082 2087 2092 2097\n",
            " [421] 2102 2107 2112 2117 2122 2127 2132 2137 2142 2147 2152 2157 2162 2167\n",
            " [435] 2172 2177 2182 2187 2192 2197 2202 2207 2212 2217 2222 2227 2232 2237\n",
            " [449] 2242 2247 2252 2257 2262 2267 2272 2277 2282 2287 2292 2297 2302 2307\n",
            " [463] 2312 2317 2322 2327 2332 2337 2342 2347 2352 2357 2362 2367 2372 2377\n",
            " [477] 2382 2387 2392 2397 2402 2407 2412 2417 2422 2427 2432 2437 2442 2447\n",
            " [491] 2452 2457 2462 2467 2472 2477 2482 2487 2492 2497 2502 2507 2512 2517\n",
            " [505] 2522 2527 2532 2537 2542 2547 2552 2557 2562 2567 2572 2577 2582 2587\n",
            " [519] 2592 2597 2602 2607 2612 2617 2622 2627 2632 2637 2642 2647 2652 2657\n",
            " [533] 2662 2667 2672 2677 2682 2687 2692 2697 2702 2707 2712 2717 2722 2727\n",
            " [547] 2732 2737 2742 2747 2752 2757 2762 2767 2772 2777 2782 2787 2792 2797\n",
            " [561] 2802 2807 2812 2817 2822 2827 2832 2837 2842 2847 2852 2857 2862 2867\n",
            " [575] 2872 2877 2882 2887 2892 2897 2902 2907 2912 2917 2922 2927 2932 2937\n",
            " [589] 2942 2947 2952 2957 2962 2967 2972 2977 2982 2987 2992 2997 3002 3007\n",
            " [603] 3012 3017 3022 3027 3032 3037 3042 3047 3052 3057 3062 3067 3072 3077\n",
            " [617] 3082 3087 3092 3097 3102 3107 3112 3117 3122 3127 3132 3137 3142 3147\n",
            " [631] 3152 3157 3162 3167 3172 3177 3182 3187 3192 3197 3202 3207 3212 3217\n",
            " [645] 3222 3227 3232 3237 3242 3247 3252 3257 3262 3267 3272 3277 3282 3287\n",
            " [659] 3292 3297 3302 3307 3312 3317 3322 3327 3332 3337 3342 3347 3352 3357\n",
            " [673] 3362 3367 3372 3377 3382 3387 3392 3397 3402 3407 3412 3417 3422 3427\n",
            " [687] 3432 3437 3442 3447 3452 3457 3462 3467 3472 3477 3482 3487 3492 3497\n",
            " [701] 3502 3507 3512 3517 3522 3527 3532 3537 3542 3547 3552 3557 3562 3567\n",
            " [715] 3572 3577 3582 3587 3592 3597 3602 3607 3612 3617 3622 3627 3632 3637\n",
            " [729] 3642 3647 3652 3657 3662 3667 3672 3677 3682 3687 3692 3697 3702 3707\n",
            " [743] 3712 3717 3722 3727 3732 3737 3742 3747 3752 3757 3762 3767 3772 3777\n",
            " [757] 3782 3787 3792 3797 3802 3807 3812 3817 3822 3827 3832 3837 3842 3847\n",
            " [771] 3852 3857 3862 3867 3872 3877 3882 3887 3892 3897 3902 3907 3912 3917\n",
            " [785] 3922 3927 3932 3937 3942 3947 3952 3957 3962 3967 3972 3977 3982 3987\n",
            " [799] 3992 3997 4002 4007 4012 4017 4022 4027 4032 4037 4042 4047 4052 4057\n",
            " [813] 4062 4067 4072 4077 4082 4087 4092 4097 4102 4107 4112 4117 4122 4127\n",
            " [827] 4132 4137 4142 4147 4152 4157 4162 4167 4172 4177 4182 4187 4192 4197\n",
            " [841] 4202 4207 4212 4217 4222 4227 4232 4237 4242 4247 4252 4257 4262 4267\n",
            " [855] 4272 4277 4282 4287 4292 4297 4302 4307 4312 4317 4322 4327 4332 4337\n",
            " [869] 4342 4347 4352 4357 4362 4367 4372 4377 4382 4387 4392 4397 4402 4407\n",
            " [883] 4412 4417 4422 4427 4432 4437 4442 4447 4452 4457 4462 4467 4472 4477\n",
            " [897] 4482 4487 4492 4497 4502 4507 4512 4517 4522 4527 4532 4537 4542 4547\n",
            " [911] 4552 4557 4562 4567 4572 4577 4582 4587 4592 4597 4602 4607 4612 4617\n",
            " [925] 4622 4627 4632 4637 4642 4647 4652 4657 4662 4667 4672 4677 4682 4687\n",
            " [939] 4692 4697 4702 4707 4712 4717 4722 4727 4732 4737 4742 4747 4752 4757\n",
            " [953] 4762 4767 4772 4777 4782 4787 4792 4797 4802 4807 4812 4817 4822 4827\n",
            " [967] 4832 4837 4842 4847 4852 4857 4862 4867 4872 4877 4882 4887 4892 4897\n",
            " [981] 4902 4907 4912 4917 4922 4927 4932 4937 4942 4947 4952 4957 4962 4967\n",
            " [995] 4972 4977 4982 4987 4992 4997\n"
          ]
        }
      ]
    },
    {
      "cell_type": "markdown",
      "source": [
        "## Reamostragem"
      ],
      "metadata": {
        "id": "ftW7mg1z33hv"
      }
    },
    {
      "cell_type": "code",
      "source": [
        "# Bootstrap - Os resultados podem variar devido à aleatoriedade da amostragem!\n",
        "\n",
        "# Imports de bibliotecas\n",
        "from sklearn.utils import resample\n",
        "\n",
        "# Amostra\n",
        "amostra = [1, 2, 3, 4, 5, 6, 7]\n",
        "\n",
        "# Vamos gerar 5 subamostras de tamanho 4\n",
        "for i in range (1,6):\n",
        "    # Reamostragem com boostrap\n",
        "    subamostra = resample(amostra, replace=True, n_samples=4)\n",
        "    print('Subamostra %d com Bootstrap: %s' % (i, subamostra))\n",
        "\n",
        "    # Observações out of bag\n",
        "    oob = [x for x in amostra if x not in subamostra]\n",
        "    print('Observações OOB para %d: %s' % (i, oob))"
      ],
      "metadata": {
        "colab": {
          "base_uri": "https://localhost:8080/"
        },
        "id": "NLwVc3RB35U-",
        "outputId": "edc4e1e6-27ac-4193-94e4-7b08ef851a22"
      },
      "execution_count": 51,
      "outputs": [
        {
          "output_type": "stream",
          "name": "stdout",
          "text": [
            "Subamostra 1 com Bootstrap: [5, 3, 2, 2]\n",
            "Observações OOB para 1: [1, 4, 6, 7]\n",
            "Subamostra 2 com Bootstrap: [4, 4, 4, 4]\n",
            "Observações OOB para 2: [1, 2, 3, 5, 6, 7]\n",
            "Subamostra 3 com Bootstrap: [7, 5, 1, 2]\n",
            "Observações OOB para 3: [3, 4, 6]\n",
            "Subamostra 4 com Bootstrap: [2, 4, 3, 5]\n",
            "Observações OOB para 4: [1, 6, 7]\n",
            "Subamostra 5 com Bootstrap: [1, 1, 3, 3]\n",
            "Observações OOB para 5: [2, 4, 5, 6, 7]\n"
          ]
        }
      ]
    },
    {
      "cell_type": "code",
      "source": [
        "# Validação cruzada 3-fold\n",
        "\n",
        "# Imports de bibliotecas\n",
        "from numpy import array\n",
        "from sklearn.model_selection import KFold\n",
        "\n",
        "# Amostra\n",
        "amostra = array([1, 2, 3, 4, 5, 6, 7])\n",
        "\n",
        "# Preparação da validação cruzada\n",
        "kfold = KFold(n_splits=3, shuffle=True, random_state=7)\n",
        "\n",
        "# Folds geradas\n",
        "for train, test in kfold.split(amostra):\n",
        "    print('Treino: %s, Teste: %s' % (amostra[train], amostra[test]))"
      ],
      "metadata": {
        "colab": {
          "base_uri": "https://localhost:8080/"
        },
        "id": "S_dLXtEJ5WHB",
        "outputId": "4b3f2dec-17e3-4aa4-f430-f12f00234094"
      },
      "execution_count": 52,
      "outputs": [
        {
          "output_type": "stream",
          "name": "stdout",
          "text": [
            "Treino: [2 4 5 7], Teste: [1 3 6]\n",
            "Treino: [1 2 3 5 6], Teste: [4 7]\n",
            "Treino: [1 3 4 6 7], Teste: [2 5]\n"
          ]
        }
      ]
    },
    {
      "cell_type": "markdown",
      "source": [
        "## Intervalos de Confiança"
      ],
      "metadata": {
        "id": "tDgtd9vd2hBT"
      }
    },
    {
      "cell_type": "code",
      "source": [
        "import numpy as np\n",
        "from sklearn.model_selection import cross_val_score\n",
        "from scipy import stats\n",
        "\n",
        "# Temos um conjunto de dados e um modelo de classificação\n",
        "from sklearn.datasets import load_iris\n",
        "from sklearn.tree import DecisionTreeClassifier\n",
        "\n",
        "# Carregando o conjunto de dados\n",
        "iris = load_iris()\n",
        "X = iris.data\n",
        "y = iris.target\n",
        "\n",
        "# Criando um modelo\n",
        "clf = DecisionTreeClassifier()\n",
        "\n",
        "# Realizando a validação cruzada com 5 folds\n",
        "scores = cross_val_score(clf, X, y, cv=5, scoring = 'accuracy')\n",
        "\n",
        "# Calculando a média das acurácias\n",
        "mean_score = np.mean(scores)\n",
        "\n",
        "# Calculando o desvio padrão das acurácias\n",
        "std_deviation = np.std(scores)\n",
        "\n",
        "# Calculando o intervalo de confiança de 95% para as acurácias\n",
        "confidence_interval = stats.t.interval(0.95, len(scores) - 1, loc=mean_score, scale=std_deviation / np.sqrt(len(scores)))\n",
        "\n",
        "print(\"Média das Acurácias:\", mean_score)\n",
        "print(\"Desvio Padrão das Acurácias:\", std_deviation)\n",
        "print(\"Intervalo de Confiança (95%):\", confidence_interval)"
      ],
      "metadata": {
        "id": "3nNNUbMH2kB6",
        "outputId": "fd8710b8-89a1-4dc6-d757-3a6ca3c925cd",
        "colab": {
          "base_uri": "https://localhost:8080/"
        }
      },
      "execution_count": 53,
      "outputs": [
        {
          "output_type": "stream",
          "name": "stdout",
          "text": [
            "Média das Acurácias: 0.9600000000000002\n",
            "Desvio Padrão das Acurácias: 0.03265986323710903\n",
            "Intervalo de Confiança (95%): (0.9194474236322232, 1.0005525763677772)\n"
          ]
        }
      ]
    }
  ]
}