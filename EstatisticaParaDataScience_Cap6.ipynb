{
  "nbformat": 4,
  "nbformat_minor": 0,
  "metadata": {
    "colab": {
      "name": "EstatisticaParaDataScience_Cap6.ipynb",
      "provenance": [],
      "toc_visible": true
    },
    "kernelspec": {
      "name": "python3",
      "display_name": "Python 3"
    },
    "language_info": {
      "name": "python"
    }
  },
  "cells": [
    {
      "cell_type": "markdown",
      "source": [
        "# Capítulo 6 - Inferência Estatística: Noções de Amostragem e Reamostragem"
      ],
      "metadata": {
        "id": "y5KIKR9AeN9d"
      }
    },
    {
      "cell_type": "code",
      "execution_count": 1,
      "metadata": {
        "id": "_QVz2-TceHoi"
      },
      "outputs": [],
      "source": [
        "# Habilita a execução de R no Google Colab\n",
        "%load_ext rpy2.ipython"
      ]
    },
    {
      "cell_type": "markdown",
      "source": [
        "## Amostragem Aleatória Simples (AAS)"
      ],
      "metadata": {
        "id": "dQ20i3qdeWoL"
      }
    },
    {
      "cell_type": "code",
      "source": [
        "%%R\n",
        "# Fixando a semente aleatória para garantir a reprodutibilidade dos resultados\n",
        "set.seed(7)\n",
        "\n",
        "# População a ser amostrada\n",
        "populacao = c(1,2,3,4,5,6,7,8,9,10)\n",
        "\n",
        "# AAS com reposição de tamanho 5\n",
        "print(sample(populacao, size=5, replace=T))\n",
        "\n",
        "# AAS sem reposição de tamanho 7\n",
        "print(sample(populacao, size=7, replace=F))"
      ],
      "metadata": {
        "colab": {
          "base_uri": "https://localhost:8080/"
        },
        "id": "9wIOAWAgeZoQ",
        "outputId": "d0f0a7df-4080-404a-e1b7-21d66c3a20ee"
      },
      "execution_count": 11,
      "outputs": [
        {
          "output_type": "stream",
          "name": "stdout",
          "text": [
            "[1] 10  3  7  2 10\n",
            "[1]  6  8  9  3 10  7  2\n"
          ]
        }
      ]
    },
    {
      "cell_type": "code",
      "source": [
        "# Imports de bibliotecas\n",
        "from sklearn.utils import resample\n",
        "\n",
        "# População a ser amostrada\n",
        "populacao = [1,2,3,4,5,6,7,8,9,10]\n",
        "\n",
        "# AAS com reposição de tamanho 5\n",
        "print(resample(populacao, replace=True, n_samples=5, random_state=7))\n",
        "\n",
        "# AAS sem reposição de tamanho 7\n",
        "print(resample(populacao, replace=False, n_samples=7, random_state=7))"
      ],
      "metadata": {
        "colab": {
          "base_uri": "https://localhost:8080/"
        },
        "id": "29sLYTe6fE9S",
        "outputId": "0fff6ab3-dbba-46a6-aa41-190dc26c31b7"
      },
      "execution_count": 10,
      "outputs": [
        {
          "output_type": "stream",
          "name": "stdout",
          "text": [
            "[5, 10, 7, 4, 4]\n",
            "[9, 6, 1, 3, 2, 10, 8]\n"
          ]
        }
      ]
    },
    {
      "cell_type": "markdown",
      "source": [
        "## Amostragem Sistemática (AS)"
      ],
      "metadata": {
        "id": "ElSJFC0GhXv9"
      }
    },
    {
      "cell_type": "code",
      "source": [
        "%%R\n",
        "# Fixando a semente aleatória para garantir a reprodutibilidade dos resultados\n",
        "set.seed(7)\n",
        "\n",
        "# Queremos escolher uma amostra (n) de 1000 fichas, dentre uma população (N) de 5000 fichas:               -\n",
        "n = 1000 \n",
        "N = 5000 \n",
        "\n",
        "# Calculando o valor de k\n",
        "k = N / n # 5\n",
        "\n",
        "# Sortearemos um valor r entre 1 e k (partida aleatória)\n",
        "r = sample(k, size=1)     \n",
        "\n",
        "# Amostra\n",
        "print(seq(r, N ,n))"
      ],
      "metadata": {
        "colab": {
          "base_uri": "https://localhost:8080/"
        },
        "id": "Q5oxH4xShZGy",
        "outputId": "7ae11317-426c-438b-d6da-cf10dba97be5"
      },
      "execution_count": 33,
      "outputs": [
        {
          "output_type": "stream",
          "name": "stdout",
          "text": [
            "[1]    2 1002 2002 3002 4002\n"
          ]
        }
      ]
    },
    {
      "cell_type": "code",
      "source": [
        "# Imports de bibliotecas\n",
        "import random\n",
        "\n",
        "# Fixando a semente aleatória para garantir a reprodutibilidade dos resultados\n",
        "random.seed(7)\n",
        "\n",
        "# Queremos escolher uma amostra (n) de 1000 fichas, dentre uma população (N) de 5000 fichas:               -\n",
        "n = 1000 \n",
        "N = 5000 \n",
        "\n",
        "# Calculando o valor de k\n",
        "k = N / n # 5\n",
        "\n",
        "# Sortearemos um valor r entre 1 e k (partida aleatória)\n",
        "r = random.randint(1, k)\n",
        "\n",
        "# Amostra\n",
        "seq = range(r, N ,n)\n",
        "for n in seq:\n",
        "   print(n)"
      ],
      "metadata": {
        "colab": {
          "base_uri": "https://localhost:8080/"
        },
        "id": "TV7dN7U1hZQQ",
        "outputId": "7ce1c60d-8b4e-47ea-b4d7-fd6cc38b3ee8"
      },
      "execution_count": 36,
      "outputs": [
        {
          "output_type": "stream",
          "name": "stdout",
          "text": [
            "3\n",
            "1003\n",
            "2003\n",
            "3003\n",
            "4003\n"
          ]
        }
      ]
    },
    {
      "cell_type": "markdown",
      "source": [
        "## Amostragem Estratificada (AE)"
      ],
      "metadata": {
        "id": "GrtxtcpqskDu"
      }
    },
    {
      "cell_type": "code",
      "source": [
        "%%R\n",
        "# Tamanho da amostra (n) e dos estratos de população (N1 a N4)\n",
        "n = 80 \n",
        "N1 = 500 \n",
        "N2 = 1200 \n",
        "N3 = 200 \n",
        "N4 = 100\n",
        "\n",
        "# Tamanho total da população\n",
        "N = N1 + N2 + N3 + N4\n",
        "\n",
        "# Fração amostral\n",
        "f = n / N\n",
        "\n",
        "# Calculando os n´s para cada extrato com alocação proporcional ao tamanho do estrato\n",
        "n1 = f*N1\n",
        "n2 = f*N2 \n",
        "n3 = f*N3 \n",
        "n4 = f*N4\n",
        "\n",
        "# Exibindo os tamanhos das amostras dos estratos\n",
        "cbind(n1, n2, n3, n4)"
      ],
      "metadata": {
        "colab": {
          "base_uri": "https://localhost:8080/"
        },
        "id": "_ok7yImPswdl",
        "outputId": "f91ebc4a-6095-4be1-9bc3-502ca5e753d3"
      },
      "execution_count": 43,
      "outputs": [
        {
          "output_type": "stream",
          "name": "stdout",
          "text": [
            "     n1 n2 n3 n4\n",
            "[1,] 20 48  8  4\n"
          ]
        }
      ]
    },
    {
      "cell_type": "code",
      "source": [
        "# Tamanho da amostra (n) e dos estratos de população (N1 a N4)\n",
        "n = 80 \n",
        "N1 = 500 \n",
        "N2 = 1200 \n",
        "N3 = 200 \n",
        "N4 = 100\n",
        "\n",
        "# Tamanho total da população\n",
        "N = N1 + N2 + N3 + N4\n",
        "\n",
        "# Fração amostral\n",
        "f = n / N\n",
        "\n",
        "# Calculando os n´s para cada extrato com alocação proporcional ao tamanho do estrato\n",
        "n1 = f*N1\n",
        "n2 = f*N2 \n",
        "n3 = f*N3 \n",
        "n4 = f*N4\n",
        "\n",
        "# Exibindo os tamanhos das amostras dos estratos\n",
        "print(\"n1=%d n2=%d n3=%d n4=%d\" % (n1, n2, n3, n4))"
      ],
      "metadata": {
        "colab": {
          "base_uri": "https://localhost:8080/"
        },
        "id": "dDZDqPZbtJJy",
        "outputId": "2b0782aa-f821-41c0-a631-595a5ebb2774"
      },
      "execution_count": 47,
      "outputs": [
        {
          "output_type": "stream",
          "name": "stdout",
          "text": [
            "n1=20 n2=48 n3=8 n4=4\n"
          ]
        }
      ]
    },
    {
      "cell_type": "code",
      "source": [
        "# Imports de bibliotecas\n",
        "import pandas as pd\n",
        "from sklearn.datasets import load_breast_cancer\n",
        "from sklearn.model_selection import train_test_split\n",
        "\n",
        "# Carregando o dataset Breast Cancer, convertendo para DataFrame e separando em X (atributos) e y (classe)\n",
        "dataset = load_breast_cancer()\n",
        "X = pd.DataFrame(dataset.data)\n",
        "y = pd.DataFrame(dataset.target)\n",
        "\n",
        "# Dividindo o dataset em conjuntos de treino (80%) e teste (20%), estratificando por y (classe do problema)\n",
        "X_train, X_test, y_train, y_test = train_test_split(X, y, test_size=0.2, stratify=y, random_state = 7)\n",
        "\n",
        "# Exibindo o tamanho de cada conjunto\n",
        "print(\"X: {}\".format(X.shape) + \" - Y: {}\".format(y.shape))\n",
        "print(\"X_train: {}\".format(X_train.shape) + \" - y_train: {}\".format(y_train.shape))\n",
        "print(\"X_test: {}\".format(X_test.shape) + \" - y_test: {}\".format(y_test.shape))"
      ],
      "metadata": {
        "colab": {
          "base_uri": "https://localhost:8080/"
        },
        "id": "PZ_zrQjDxj2P",
        "outputId": "9c3792c5-6328-450c-d117-4bf1640ee92b"
      },
      "execution_count": 60,
      "outputs": [
        {
          "output_type": "stream",
          "name": "stdout",
          "text": [
            "X: (569, 30) - Y: (569, 1)\n",
            "X_train: (455, 30) - y_train: (455, 1)\n",
            "X_test: (114, 30) - y_test: (114, 1)\n"
          ]
        }
      ]
    },
    {
      "cell_type": "markdown",
      "source": [
        "## Amostragem por Conglomerado ou Cluster (AC)"
      ],
      "metadata": {
        "id": "XNwcCzSBhIH6"
      }
    },
    {
      "cell_type": "code",
      "source": [
        "# Imports de bibliotecas\n",
        "import pandas as pd\n",
        "from sklearn.datasets import load_breast_cancer\n",
        "\n",
        "# Carregando o dataset Breast Cancer, convertendo para DataFrame e adicionando a varável target\n",
        "dataset = load_breast_cancer()\n",
        "df = pd.DataFrame(dataset.data, columns=dataset.feature_names)\n",
        "df['target'] = dataset.target\n",
        "\n",
        "# Dimensões do dataset original\n",
        "print(df.shape)\n",
        "\n",
        "# Amostragem por conglomerado - a amostra terá tamanho 50\n",
        "amostra = df.sample(50, random_state=7)\n",
        "\n",
        "# Dimensões da amostra\n",
        "print(amostra.shape)"
      ],
      "metadata": {
        "colab": {
          "base_uri": "https://localhost:8080/"
        },
        "id": "2PtBXHUjhJIo",
        "outputId": "df922224-527e-474b-8508-beaeed3685a9"
      },
      "execution_count": 27,
      "outputs": [
        {
          "output_type": "stream",
          "name": "stdout",
          "text": [
            "(569, 31)\n",
            "(50, 31)\n"
          ]
        }
      ]
    },
    {
      "cell_type": "markdown",
      "source": [
        "## Reamostragem"
      ],
      "metadata": {
        "id": "ftW7mg1z33hv"
      }
    },
    {
      "cell_type": "code",
      "source": [
        "# Bootstrap\n",
        "\n",
        "# Imports de bibliotecas\n",
        "from sklearn.utils import resample\n",
        "\n",
        "# Amostra\n",
        "amostra = [1, 2, 3, 4, 5, 6, 7]\n",
        "\n",
        "# Vamos gerar 5 subamostras de tamanho 4\n",
        "for i in range (1,6):\n",
        "    # Reamostragem com boostrap\n",
        "    subamostra = resample(amostra, replace=True, n_samples=4, random_state=7)\n",
        "    print('Subamostra %d com Bootstrap: %s' % (i, subamostra))\n",
        "\n",
        "    # Observações out of bag\n",
        "    oob = [x for x in amostra if x not in subamostra]\n",
        "    print('Observações OOB para %d: %s' % (i, oob))"
      ],
      "metadata": {
        "colab": {
          "base_uri": "https://localhost:8080/"
        },
        "id": "NLwVc3RB35U-",
        "outputId": "a6191098-35cc-4720-fac8-298619647565"
      },
      "execution_count": 30,
      "outputs": [
        {
          "output_type": "stream",
          "name": "stdout",
          "text": [
            "Subamostra 1 com Bootstrap: [5, 2, 7, 4]\n",
            "Observações OOB para 1: [1, 3, 6]\n",
            "Subamostra 2 com Bootstrap: [5, 2, 7, 4]\n",
            "Observações OOB para 2: [1, 3, 6]\n",
            "Subamostra 3 com Bootstrap: [5, 2, 7, 4]\n",
            "Observações OOB para 3: [1, 3, 6]\n",
            "Subamostra 4 com Bootstrap: [5, 2, 7, 4]\n",
            "Observações OOB para 4: [1, 3, 6]\n",
            "Subamostra 5 com Bootstrap: [5, 2, 7, 4]\n",
            "Observações OOB para 5: [1, 3, 6]\n"
          ]
        }
      ]
    },
    {
      "cell_type": "code",
      "source": [
        "# Validação cruzada 3-fold\n",
        "\n",
        "# Imports de bibliotecas\n",
        "from numpy import array\n",
        "from sklearn.model_selection import KFold\n",
        "\n",
        "# Amostra\n",
        "amostra = array([1, 2, 3, 4, 5, 6, 7])\n",
        "\n",
        "# Preparação da validação cruzada\n",
        "kfold = KFold(n_splits=3, shuffle=True, random_state=7)\n",
        "\n",
        "# Folds geradas\n",
        "for train, test in kfold.split(amostra):\n",
        "    print('Treino: %s, Teste: %s' % (amostra[train], amostra[test]))"
      ],
      "metadata": {
        "colab": {
          "base_uri": "https://localhost:8080/"
        },
        "id": "S_dLXtEJ5WHB",
        "outputId": "d26955a5-a64a-4a60-f6c2-e2455a338114"
      },
      "execution_count": 31,
      "outputs": [
        {
          "output_type": "stream",
          "name": "stdout",
          "text": [
            "Treino: [2 4 5 7], Teste: [1 3 6]\n",
            "Treino: [1 2 3 5 6], Teste: [4 7]\n",
            "Treino: [1 3 4 6 7], Teste: [2 5]\n"
          ]
        }
      ]
    }
  ]
}