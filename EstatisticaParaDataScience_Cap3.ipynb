{
  "cells": [
    {
      "cell_type": "markdown",
      "metadata": {
        "id": "ocRDXXC6OpkC"
      },
      "source": [
        "# Capítulo 3 - Estatística Descritiva: Medidas de Tendência Central e de Dispersão"
      ]
    },
    {
      "cell_type": "code",
      "execution_count": 2,
      "metadata": {},
      "outputs": [
        {
          "name": "stdout",
          "output_type": "stream",
          "text": [
            "Requirement already satisfied: rpy2 in c:\\users\\onildofilho\\documents\\meusprojetos\\estatisticadatascience\\.venv\\lib\\site-packages (3.5.17)\n",
            "Requirement already satisfied: pandas in c:\\users\\onildofilho\\documents\\meusprojetos\\estatisticadatascience\\.venv\\lib\\site-packages (2.2.3)\n",
            "Requirement already satisfied: numpy in c:\\users\\onildofilho\\documents\\meusprojetos\\estatisticadatascience\\.venv\\lib\\site-packages (2.2.5)\n",
            "Requirement already satisfied: matplotlib in c:\\users\\onildofilho\\documents\\meusprojetos\\estatisticadatascience\\.venv\\lib\\site-packages (3.10.1)\n",
            "Requirement already satisfied: scipy in c:\\users\\onildofilho\\documents\\meusprojetos\\estatisticadatascience\\.venv\\lib\\site-packages (1.15.2)\n",
            "Requirement already satisfied: cffi>=1.15.1 in c:\\users\\onildofilho\\documents\\meusprojetos\\estatisticadatascience\\.venv\\lib\\site-packages (from rpy2) (1.17.1)\n",
            "Requirement already satisfied: jinja2 in c:\\users\\onildofilho\\documents\\meusprojetos\\estatisticadatascience\\.venv\\lib\\site-packages (from rpy2) (3.1.6)\n",
            "Requirement already satisfied: tzlocal in c:\\users\\onildofilho\\documents\\meusprojetos\\estatisticadatascience\\.venv\\lib\\site-packages (from rpy2) (5.3.1)\n",
            "Requirement already satisfied: packaging in c:\\users\\onildofilho\\documents\\meusprojetos\\estatisticadatascience\\.venv\\lib\\site-packages (from rpy2) (25.0)\n",
            "Requirement already satisfied: python-dateutil>=2.8.2 in c:\\users\\onildofilho\\documents\\meusprojetos\\estatisticadatascience\\.venv\\lib\\site-packages (from pandas) (2.9.0.post0)\n",
            "Requirement already satisfied: pytz>=2020.1 in c:\\users\\onildofilho\\documents\\meusprojetos\\estatisticadatascience\\.venv\\lib\\site-packages (from pandas) (2025.2)\n",
            "Requirement already satisfied: tzdata>=2022.7 in c:\\users\\onildofilho\\documents\\meusprojetos\\estatisticadatascience\\.venv\\lib\\site-packages (from pandas) (2025.2)\n",
            "Requirement already satisfied: contourpy>=1.0.1 in c:\\users\\onildofilho\\documents\\meusprojetos\\estatisticadatascience\\.venv\\lib\\site-packages (from matplotlib) (1.3.2)\n",
            "Requirement already satisfied: cycler>=0.10 in c:\\users\\onildofilho\\documents\\meusprojetos\\estatisticadatascience\\.venv\\lib\\site-packages (from matplotlib) (0.12.1)\n",
            "Requirement already satisfied: fonttools>=4.22.0 in c:\\users\\onildofilho\\documents\\meusprojetos\\estatisticadatascience\\.venv\\lib\\site-packages (from matplotlib) (4.57.0)\n",
            "Requirement already satisfied: kiwisolver>=1.3.1 in c:\\users\\onildofilho\\documents\\meusprojetos\\estatisticadatascience\\.venv\\lib\\site-packages (from matplotlib) (1.4.8)\n",
            "Requirement already satisfied: pillow>=8 in c:\\users\\onildofilho\\documents\\meusprojetos\\estatisticadatascience\\.venv\\lib\\site-packages (from matplotlib) (11.2.1)\n",
            "Requirement already satisfied: pyparsing>=2.3.1 in c:\\users\\onildofilho\\documents\\meusprojetos\\estatisticadatascience\\.venv\\lib\\site-packages (from matplotlib) (3.2.3)\n",
            "Requirement already satisfied: pycparser in c:\\users\\onildofilho\\documents\\meusprojetos\\estatisticadatascience\\.venv\\lib\\site-packages (from cffi>=1.15.1->rpy2) (2.22)\n",
            "Requirement already satisfied: six>=1.5 in c:\\users\\onildofilho\\documents\\meusprojetos\\estatisticadatascience\\.venv\\lib\\site-packages (from python-dateutil>=2.8.2->pandas) (1.17.0)\n",
            "Requirement already satisfied: MarkupSafe>=2.0 in c:\\users\\onildofilho\\documents\\meusprojetos\\estatisticadatascience\\.venv\\lib\\site-packages (from jinja2->rpy2) (3.0.2)\n",
            "Note: you may need to restart the kernel to use updated packages.\n"
          ]
        }
      ],
      "source": [
        "%pip install rpy2 pandas numpy matplotlib scipy"
      ]
    },
    {
      "cell_type": "code",
      "execution_count": 3,
      "metadata": {
        "id": "nPh7Yrfw_a5j"
      },
      "outputs": [
        {
          "name": "stderr",
          "output_type": "stream",
          "text": [
            "c:\\Users\\OnildoFilho\\Documents\\MeusProjetos\\estatisticadatascience\\.venv\\Lib\\site-packages\\rpy2\\robjects\\packages.py:367: UserWarning: The symbol 'quartz' is not in this R namespace/package.\n",
            "  warnings.warn(\n"
          ]
        }
      ],
      "source": [
        "# Habilita a execução de R no Google Colab\n",
        "%load_ext rpy2.ipython"
      ]
    },
    {
      "cell_type": "markdown",
      "metadata": {
        "id": "BNJm7B8x_xA0"
      },
      "source": [
        "## Média aritmética"
      ]
    },
    {
      "cell_type": "code",
      "execution_count": 4,
      "metadata": {
        "colab": {
          "base_uri": "https://localhost:8080/"
        },
        "id": "Qm0owRpm9x8O",
        "outputId": "90e4443f-c131-42d4-b94a-bd7b604336cb"
      },
      "outputs": [
        {
          "data": {
            "text/plain": [
              "3"
            ]
          },
          "execution_count": 4,
          "metadata": {},
          "output_type": "execute_result"
        }
      ],
      "source": [
        "# Import da função\n",
        "from statistics import mean\n",
        "# Dados\n",
        "dados = [1,2,5,3,4]\n",
        "# Calculando a média aritmética\n",
        "mean(dados)"
      ]
    },
    {
      "cell_type": "code",
      "execution_count": 5,
      "metadata": {
        "colab": {
          "base_uri": "https://localhost:8080/"
        },
        "id": "BDocNC9U_lm3",
        "outputId": "d27b5101-4030-473c-cca6-2a4498ee26cf"
      },
      "outputs": [
        {
          "name": "stdout",
          "output_type": "stream",
          "text": [
            "[1] 3\n"
          ]
        }
      ],
      "source": [
        "%%R\n",
        "# Dados\n",
        "dados = c(1,2,5,3,4)\n",
        "# Calculando a média aritmética\n",
        "mean(dados)"
      ]
    },
    {
      "cell_type": "markdown",
      "metadata": {
        "id": "AeL6AJ2N_6t1"
      },
      "source": [
        "## Média geométrica"
      ]
    },
    {
      "cell_type": "code",
      "execution_count": 6,
      "metadata": {
        "colab": {
          "base_uri": "https://localhost:8080/"
        },
        "id": "qU13N00F_6No",
        "outputId": "7d2ff67f-9964-4687-abbf-9802e604dcb4"
      },
      "outputs": [
        {
          "name": "stdout",
          "output_type": "stream",
          "text": [
            "2.6051710846973517\n"
          ]
        }
      ],
      "source": [
        "# Import da função\n",
        "from scipy.stats.mstats import gmean\n",
        "# Dados\n",
        "dados = [1,2,5,3,4]\n",
        "# Calculando a média geométrica\n",
        "print(gmean(dados))"
      ]
    },
    {
      "cell_type": "code",
      "execution_count": 7,
      "metadata": {
        "colab": {
          "base_uri": "https://localhost:8080/"
        },
        "id": "WtPzLurw_9PM",
        "outputId": "52408623-9bff-45f3-9a15-30ade32f5d32"
      },
      "outputs": [
        {
          "name": "stdout",
          "output_type": "stream",
          "text": [
            "[1] 2.605171\n"
          ]
        }
      ],
      "source": [
        "%%R\n",
        "# Dados\n",
        "dados = c(1,2,5,3,4)\n",
        "# Calculando a média geométrica\n",
        "exp(mean(log(dados)))"
      ]
    },
    {
      "cell_type": "code",
      "execution_count": 8,
      "metadata": {
        "id": "qqnAecgNPl2M"
      },
      "outputs": [
        {
          "name": "stdout",
          "output_type": "stream",
          "text": [
            "[1] 2.605171\n"
          ]
        },
        {
          "data": {
            "text/plain": [
              "\n",
              "Attaching package: 'EnvStats'\n",
              "\n",
              "The following objects are masked from 'package:stats':\n",
              "\n",
              "    predict, predict.lm\n",
              "\n",
              "The following object is masked from 'package:base':\n",
              "\n",
              "    print.default\n",
              "\n"
            ]
          },
          "metadata": {},
          "output_type": "display_data"
        }
      ],
      "source": [
        "%%R\n",
        "# Instalando a biblioteca\n",
        "# install.packages(\"EnvStats\")\n",
        "# Carregando a biblioteca\n",
        "library(EnvStats)\n",
        "# Calculando a média geométrica\n",
        "geoMean(dados)"
      ]
    },
    {
      "cell_type": "markdown",
      "metadata": {
        "id": "mNcNA6VQRB2c"
      },
      "source": [
        "## Média Harmônica"
      ]
    },
    {
      "cell_type": "code",
      "execution_count": 9,
      "metadata": {
        "colab": {
          "base_uri": "https://localhost:8080/"
        },
        "id": "gTiFXIkcRNwk",
        "outputId": "990c6121-d304-44fa-b26a-9fd3620f2fc6"
      },
      "outputs": [
        {
          "data": {
            "text/plain": [
              "2.18978102189781"
            ]
          },
          "execution_count": 9,
          "metadata": {},
          "output_type": "execute_result"
        }
      ],
      "source": [
        "# Import da função\n",
        "from statistics import harmonic_mean\n",
        "# Dados\n",
        "dados = [1,2,5,3,4]\n",
        "# Calculando a média harmônica\n",
        "harmonic_mean(dados)"
      ]
    },
    {
      "cell_type": "code",
      "execution_count": 10,
      "metadata": {
        "colab": {
          "base_uri": "https://localhost:8080/"
        },
        "id": "YZw2nq7ZRN3f",
        "outputId": "bfad7ab9-9ea6-4e2d-a5b4-fb366355d43c"
      },
      "outputs": [
        {
          "name": "stdout",
          "output_type": "stream",
          "text": [
            "[1] 2.189781\n"
          ]
        }
      ],
      "source": [
        "%%R\n",
        "# Dados\n",
        "dados = c(1,2,5,3,4)\n",
        "# Calculando a média harmônica\n",
        "1/mean(1/dados)"
      ]
    },
    {
      "cell_type": "code",
      "execution_count": 11,
      "metadata": {
        "id": "byxvmAt5RoXV"
      },
      "outputs": [
        {
          "name": "stdout",
          "output_type": "stream",
          "text": [
            "[1] 2.189781\n"
          ]
        }
      ],
      "source": [
        "%%R\n",
        "# Instalando a biblioteca\n",
        "# install.packages(\"psych\")\n",
        "# Carregando a biblioteca\n",
        "library(psych)\n",
        "# Calculando a média Harmônica\n",
        "harmonic.mean(dados)"
      ]
    },
    {
      "cell_type": "markdown",
      "metadata": {
        "id": "ARLiIUoCT4NG"
      },
      "source": [
        "## Mediana"
      ]
    },
    {
      "cell_type": "code",
      "execution_count": null,
      "metadata": {
        "colab": {
          "base_uri": "https://localhost:8080/"
        },
        "id": "x2zeqpsOT50z",
        "outputId": "b7989b50-0cd2-4644-aab8-fb8bbe3c7516"
      },
      "outputs": [],
      "source": [
        "# Import da função\n",
        "from statistics import median\n",
        "# Dados\n",
        "dados = [7,1,5,2,3,1,6]\n",
        "# Calculando a mediana\n",
        "median(dados)"
      ]
    },
    {
      "cell_type": "code",
      "execution_count": null,
      "metadata": {
        "colab": {
          "base_uri": "https://localhost:8080/"
        },
        "id": "moHAK1E-T54J",
        "outputId": "bd22ceb0-635d-4c8c-94bc-cca3a2d90564"
      },
      "outputs": [],
      "source": [
        "%%R\n",
        "# Dados\n",
        "dados = c(7,1,5,2,3,1,6)\n",
        "# Calculando a mediana\n",
        "median(dados)"
      ]
    },
    {
      "cell_type": "code",
      "execution_count": null,
      "metadata": {
        "colab": {
          "base_uri": "https://localhost:8080/"
        },
        "id": "04TlOYn9VKhm",
        "outputId": "194cbb49-078c-4dfa-ca6b-c7158a816cb6"
      },
      "outputs": [],
      "source": [
        "# Import da função\n",
        "from statistics import median\n",
        "# Dados\n",
        "dados = [1,2,1,1,4,5,3,6]\n",
        "# Calculando a mediana\n",
        "median(dados)"
      ]
    },
    {
      "cell_type": "code",
      "execution_count": null,
      "metadata": {
        "colab": {
          "base_uri": "https://localhost:8080/"
        },
        "id": "NpyyfaPSVKqp",
        "outputId": "83c6d87e-d0db-4952-f07d-7901990946e4"
      },
      "outputs": [],
      "source": [
        "%%R\n",
        "# Dados\n",
        "dados = c(1,2,1,1,4,5,3,6)\n",
        "# Calculando a mediana\n",
        "median(dados)"
      ]
    },
    {
      "cell_type": "markdown",
      "metadata": {
        "id": "lhtZ-V1LVZ5X"
      },
      "source": [
        "## Moda"
      ]
    },
    {
      "cell_type": "code",
      "execution_count": null,
      "metadata": {
        "colab": {
          "base_uri": "https://localhost:8080/"
        },
        "id": "Sj0OEOIXVc_Y",
        "outputId": "41272b93-0fee-49e9-eb34-db43c6c6e842"
      },
      "outputs": [],
      "source": [
        "# Import da função\n",
        "from statistics import mode\n",
        "# Dados\n",
        "dados = [4,5,4,6,5,8,4]\n",
        "# Calculando a moda\n",
        "mode(dados)"
      ]
    },
    {
      "cell_type": "code",
      "execution_count": null,
      "metadata": {
        "id": "x4m4CwcHV0Hu"
      },
      "outputs": [],
      "source": [
        "%%R\n",
        "# Dados\n",
        "dados=c(4,5,4,6,5,8,4)\n",
        "# Instalando a biblioteca\n",
        "install.packages(\"DescTools\")\n",
        "# Carregando a biblioteca\n",
        "library(DescTools)\n",
        "# Calculando a moda\n",
        "Mode(dados)"
      ]
    },
    {
      "cell_type": "code",
      "execution_count": null,
      "metadata": {
        "id": "hFpzQ0VyWlwW"
      },
      "outputs": [],
      "source": [
        "# Import da função\n",
        "from statistics import multimode # Python >= 3.8\n",
        "# Dados\n",
        "dados = [4,5,4,6,5,8,4,4,5,5]\n",
        "# Calculando a moda\n",
        "multimode(dados)"
      ]
    },
    {
      "cell_type": "code",
      "execution_count": null,
      "metadata": {
        "colab": {
          "base_uri": "https://localhost:8080/"
        },
        "id": "e6GwnhP7YA7K",
        "outputId": "9a817345-dacf-41f8-ef3e-f787c79c25f3"
      },
      "outputs": [],
      "source": [
        "# Se sua versão do Python for < 3.8, use o código a seguir:\n",
        "\n",
        "# Imports das funções\n",
        "from collections import Counter\n",
        "from itertools import groupby\n",
        "# Dados\n",
        "dados = [4,5,4,6,5,8,4,4,5,5]\n",
        "# Agrupando por frequência\n",
        "freqs = groupby(Counter(dados).most_common(), lambda x:x[1])\n",
        "# Imprimindo os grupos de maior frequência\n",
        "print([val for val,count in next(freqs)[1]])"
      ]
    },
    {
      "cell_type": "code",
      "execution_count": null,
      "metadata": {
        "colab": {
          "base_uri": "https://localhost:8080/"
        },
        "id": "wdTGpXtrWl70",
        "outputId": "d102542a-4eaf-49d3-d4b9-1c2a64974b87"
      },
      "outputs": [],
      "source": [
        "%%R\n",
        "# Dados\n",
        "dados = c(4,5,4,6,5,8,4,4,5,5)\n",
        "# Instalando a biblioteca\n",
        "#install.packages(\"DescTools\")\n",
        "# Carregando a biblioteca\n",
        "library(DescTools)\n",
        "# Calculando a moda\n",
        "Mode(dados)"
      ]
    },
    {
      "cell_type": "code",
      "execution_count": null,
      "metadata": {
        "colab": {
          "base_uri": "https://localhost:8080/"
        },
        "id": "YNe3Np0EXOji",
        "outputId": "a0172eae-ba42-4615-bc24-fcfea9834134"
      },
      "outputs": [],
      "source": [
        "# Import da função\n",
        "from statistics import multimode # Python >= 3.8\n",
        "# Dados\n",
        "dados = [1,2,3,4,5]\n",
        "# Calculando a moda\n",
        "multimode(dados)"
      ]
    },
    {
      "cell_type": "code",
      "execution_count": null,
      "metadata": {
        "colab": {
          "base_uri": "https://localhost:8080/"
        },
        "id": "AWqknnU6XOn1",
        "outputId": "a0a4f18b-3220-49ce-f073-6822d2e5d0cb"
      },
      "outputs": [],
      "source": [
        "%%R\n",
        "# Dados\n",
        "dados=c(1,2,3,4,5)\n",
        "# Instalando a biblioteca\n",
        "#install.packages(\"DescTools\")\n",
        "# Carregando a biblioteca\n",
        "library(DescTools)\n",
        "# Calculando a moda\n",
        "Mode(dados)"
      ]
    },
    {
      "cell_type": "markdown",
      "metadata": {
        "id": "z2hXVmrfcO1f"
      },
      "source": [
        "## Medidas Separatrizes"
      ]
    },
    {
      "cell_type": "code",
      "execution_count": null,
      "metadata": {
        "colab": {
          "base_uri": "https://localhost:8080/"
        },
        "id": "VelvZ4iqWmEF",
        "outputId": "d5a18037-0751-4a71-b3ba-5476a069b18e"
      },
      "outputs": [],
      "source": [
        "# Import da função\n",
        "from statistics import median\n",
        "import numpy as np\n",
        "# Dados\n",
        "dados = [3,1,5,2,3,1,7]\n",
        "# Mediana\n",
        "print(median(dados))\n",
        "print(np.quantile(dados, 0.25))\n",
        "print(np.quantile(dados, 0.75))"
      ]
    },
    {
      "cell_type": "code",
      "execution_count": null,
      "metadata": {
        "colab": {
          "base_uri": "https://localhost:8080/"
        },
        "id": "QhEvUWBEWmI7",
        "outputId": "155f6dc5-553e-4097-dcb1-382664c56849"
      },
      "outputs": [],
      "source": [
        "%%R\n",
        "# Dados\n",
        "dados = c(3,1,5,2,3,1,7)\n",
        "# Mediana\n",
        "print(median(dados))\n",
        "# Primeiro quartil\n",
        "print(quantile(dados,.25))\n",
        "# Terceiro quartil\n",
        "print(quantile(dados,.75))\n",
        "# Achando o Primeiro quartil (Q1), Segundo quartil(Q2) e Terceiro Quartil (Q3) de uma vez.\n",
        "print(summary(dados))"
      ]
    },
    {
      "cell_type": "markdown",
      "metadata": {
        "id": "83aT5lgiiX_E"
      },
      "source": [
        "## Medidas de Assimetria"
      ]
    },
    {
      "cell_type": "code",
      "execution_count": null,
      "metadata": {
        "colab": {
          "base_uri": "https://localhost:8080/"
        },
        "id": "KAb-vxgXiZs_",
        "outputId": "716ca254-3e2f-4eb4-a8c6-85785aecf8f1"
      },
      "outputs": [],
      "source": [
        "# Import da função\n",
        "from scipy.stats import skew\n",
        "# Dados\n",
        "x = [8.0, 1, 2.5, 4, 28.0]\n",
        "# Calculando a assimetria manualmente\n",
        "n = len(x)\n",
        "mean_ = sum(x) / n\n",
        "var_ = sum((item - mean_)**2 for item in x) / (n - 1)\n",
        "std_ = var_ ** 0.5\n",
        "skew_ = (sum((item - mean_)**3 for item in x) * n / ((n - 1) * (n - 2) * std_**3))\n",
        "# Calculando a assimetria usando a biblioteca\n",
        "skew_\n",
        "# AS > 0 (1.9470432273905929) --> distribuição será assimétrica à direita ou positiva, terá concentração dos valores no gráfico à esquerda e a curva se alongará mais à direita do gráfico)"
      ]
    },
    {
      "cell_type": "code",
      "execution_count": null,
      "metadata": {
        "colab": {
          "base_uri": "https://localhost:8080/"
        },
        "id": "UOUsWx-O4dLa",
        "outputId": "04e3cd97-1fa9-4474-df07-0b123376d6f4"
      },
      "outputs": [],
      "source": [
        "%%R\n",
        "# Instalando a biblioteca\n",
        "#install.packages(\"e1071\")\n",
        "# Carregando a biblioteca\n",
        "library(e1071)\n",
        "# Dados\n",
        "x = c(8.0, 1, 2.5, 4, 28.0)\n",
        "# Calculando a assimetria manualmente\n",
        "n = length(x)\n",
        "mean_ = sum(x) / n\n",
        "a = (sum((x - mean_)**3) * n / ((n - 1) * (n - 2) * sd(x)**3))\n",
        "# Calculando a assimetria usando a biblioteca\n",
        "skewness(x,type = 2)\n",
        "# AS > 0 (1.947043) --> distribuição será assimétrica à direita ou positiva, terá concentração dos valores no gráfico à esquerda e a curva se alongará mais à direita do gráfico)"
      ]
    },
    {
      "cell_type": "markdown",
      "metadata": {
        "id": "-N0tjiEgrfu_"
      },
      "source": [
        "## Medidas de Dispersão"
      ]
    },
    {
      "cell_type": "code",
      "execution_count": null,
      "metadata": {
        "colab": {
          "base_uri": "https://localhost:8080/"
        },
        "id": "SxyuKb5FrfXs",
        "outputId": "84fcf9b5-adf9-4072-f5fa-5fe525943b3f"
      },
      "outputs": [],
      "source": [
        "# Imports das bibliotecas\n",
        "from statistics import variance\n",
        "from statistics import stdev\n",
        "from statistics import mean\n",
        "import numpy as np\n",
        "# Dados\n",
        "dados = [3,4,5,6,12]\n",
        "# Amplitude\n",
        "print(np.max(dados)-np.min(dados))\n",
        "# Variância\n",
        "print(variance(dados))\n",
        "# Desvio padrão\n",
        "print(stdev(dados))\n",
        "# Coeficiente de variação\n",
        "print(stdev(dados)/mean(dados)*100)"
      ]
    },
    {
      "cell_type": "code",
      "execution_count": null,
      "metadata": {
        "colab": {
          "base_uri": "https://localhost:8080/"
        },
        "id": "loejqWOArg_F",
        "outputId": "fd51570c-05f2-41e8-8372-57c84eafe824"
      },
      "outputs": [],
      "source": [
        "%%R\n",
        "# Dados\n",
        "dados = c(3,4,5,6,12)\n",
        "# Amplitude\n",
        "print(diff(range(dados)))\n",
        "# Variância\n",
        "print(var(dados))\n",
        "# Desvio padrão\n",
        "print(sd(dados))\n",
        "# Coeficiente de variação\n",
        "print(sd(dados)/mean(dados)*100)"
      ]
    },
    {
      "cell_type": "markdown",
      "metadata": {
        "id": "MrxrfopTkL_E"
      },
      "source": [
        "## Boxplot"
      ]
    },
    {
      "cell_type": "code",
      "execution_count": null,
      "metadata": {
        "colab": {
          "base_uri": "https://localhost:8080/",
          "height": 279
        },
        "id": "zU0SW4I5kNRP",
        "outputId": "7b665c33-6c7e-45c1-8b1c-41271650c582"
      },
      "outputs": [],
      "source": [
        "# Imports das bibliotecas\n",
        "import seaborn as sns\n",
        "import matplotlib.pyplot as plt\n",
        "\n",
        "# Carregando o dataset\n",
        "dados = sns.load_dataset('iris')\n",
        "# Plotando um boxplot por species da característica petal length\n",
        "sns.boxplot(x=dados[\"species\"], y=dados[\"petal_length\"])\n",
        "plt.show()\n"
      ]
    },
    {
      "cell_type": "code",
      "execution_count": null,
      "metadata": {
        "colab": {
          "base_uri": "https://localhost:8080/",
          "height": 497
        },
        "id": "Dx8NHn18kNbe",
        "outputId": "fde2d262-752f-411b-edc7-e38084793b8a"
      },
      "outputs": [],
      "source": [
        "%%R\n",
        "# Carregando a biblioteca\n",
        "library(ggplot2)\n",
        "# Carregando o dataset nativo Iris\n",
        "dados = iris\n",
        "# Plotando um boxplot por Species da característica Petal.Length\n",
        "ggplot(dados, aes(x=Species, y=Petal.Length, fill=Species)) + \n",
        "  geom_boxplot()"
      ]
    }
  ],
  "metadata": {
    "colab": {
      "name": "EstatisticaParaDataScience_Cap3.ipynb",
      "provenance": []
    },
    "kernelspec": {
      "display_name": ".venv",
      "language": "python",
      "name": "python3"
    },
    "language_info": {
      "codemirror_mode": {
        "name": "ipython",
        "version": 3
      },
      "file_extension": ".py",
      "mimetype": "text/x-python",
      "name": "python",
      "nbconvert_exporter": "python",
      "pygments_lexer": "ipython3",
      "version": "3.13.2"
    }
  },
  "nbformat": 4,
  "nbformat_minor": 0
}
