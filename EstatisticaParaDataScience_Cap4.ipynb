{
  "nbformat": 4,
  "nbformat_minor": 0,
  "metadata": {
    "colab": {
      "name": "EstatisticaParaDataScience_Cap4.ipynb",
      "provenance": []
    },
    "kernelspec": {
      "name": "python3",
      "display_name": "Python 3"
    },
    "language_info": {
      "name": "python"
    }
  },
  "cells": [
    {
      "cell_type": "markdown",
      "source": [
        "# Capítulo 4 - Cálculo das probabilidades: conceitos e fundamentos"
      ],
      "metadata": {
        "id": "gbsWWf569_B5"
      }
    },
    {
      "cell_type": "code",
      "execution_count": 1,
      "metadata": {
        "id": "3JGEJzg-99q1"
      },
      "outputs": [],
      "source": [
        "# Habilita a execução de R no Google Colab\n",
        "%load_ext rpy2.ipython"
      ]
    },
    {
      "cell_type": "markdown",
      "source": [
        "## Conceitos fundamentais em probabilidade"
      ],
      "metadata": {
        "id": "V5lrkmxn-UzP"
      }
    },
    {
      "cell_type": "code",
      "source": [
        "%%R\n",
        "# Instalando a biblioteca\n",
        "#install.packages(\"prob\")\n",
        "# Carregando a biblioteca\n",
        "library(prob)\n",
        "# Criando um dado de 6 faces a ser rodado 1 vez, makespace=T cria uma coluna com as probabilidades de cada face\n",
        "dado = rolldie(1, nsides = 6, makespace = T)\n",
        "# Selecionando só as faces pares (o operador %% representa o resto da divisão)\n",
        "subset(dado, X1%%2==0)"
      ],
      "metadata": {
        "colab": {
          "base_uri": "https://localhost:8080/"
        },
        "id": "7P2sg0tY-s8V",
        "outputId": "e4a1735d-6e92-4f70-e626-5fac3fe44ee8"
      },
      "execution_count": 4,
      "outputs": [
        {
          "output_type": "stream",
          "name": "stdout",
          "text": [
            "  X1     probs\n",
            "2  2 0.1666667\n",
            "4  4 0.1666667\n",
            "6  6 0.1666667\n"
          ]
        }
      ]
    },
    {
      "cell_type": "code",
      "source": [
        "%%R\n",
        "# Carregando a biblioteca\n",
        "library(prob)\n",
        "# Criando os eventos\n",
        "A = subset(rolldie(1,makespace = F), X1%%2==0)\n",
        "B = subset(rolldie(1,makespace = F), X1>3)\n",
        "# União dos eventos A e B\n",
        "uniao = union(A,B)\n",
        "print(uniao)\n",
        "# Interseção entre os conjuntos A e B\n",
        "intersecao = intersect(A,B)\n",
        "print(intersecao)"
      ],
      "metadata": {
        "colab": {
          "base_uri": "https://localhost:8080/"
        },
        "id": "1tA2hP4Po5X1",
        "outputId": "3cb4ae41-d453-4e89-9c03-b1a2016495ef"
      },
      "execution_count": 4,
      "outputs": [
        {
          "output_type": "stream",
          "name": "stdout",
          "text": [
            "[1] 2 4 5 6\n",
            "[1] 4 6\n"
          ]
        }
      ]
    },
    {
      "cell_type": "markdown",
      "source": [
        "## Atribuição das probabilidades"
      ],
      "metadata": {
        "id": "SjHeOyGFpmSo"
      }
    },
    {
      "cell_type": "code",
      "source": [
        "%%R\n",
        "# Carregando a biblioteca\n",
        "library(prob)\n",
        "# Sendo H do inglês \"Head\" que significa \"cara\"\n",
        "# Sendo T do inglês \"Tail\" que significa \"coroa\"\n",
        "# Cria e imprime o espaço amostral para um lançamento de moedas\n",
        "moedas = tosscoin(3, makespace = F)\n",
        "print(moedas)\n",
        "# Selecionando as linhas 2, 3 e 5 (que têm duas caras) e todas as colunas do dataframe moedas\n",
        "duas_caras = moedas[c(2,3,5),]\n",
        "# Calculando a probabilidade desejada\n",
        "dim(duas_caras)[1]/dim(moedas)[1]"
      ],
      "metadata": {
        "colab": {
          "base_uri": "https://localhost:8080/"
        },
        "id": "1KuCcpGupnDf",
        "outputId": "98316331-370b-4725-981d-286d2b7d9a3d"
      },
      "execution_count": 5,
      "outputs": [
        {
          "output_type": "stream",
          "name": "stdout",
          "text": [
            "  toss1 toss2 toss3\n",
            "1     H     H     H\n",
            "2     T     H     H\n",
            "3     H     T     H\n",
            "4     T     T     H\n",
            "5     H     H     T\n",
            "6     T     H     T\n",
            "7     H     T     T\n",
            "8     T     T     T\n",
            "[1] 0.375\n"
          ]
        }
      ]
    },
    {
      "cell_type": "code",
      "source": [
        "# Criando o objeto P(A)\n",
        "PA = 0.30\n",
        "# Criando o objeto P(B)\n",
        "PB = 0.28\n",
        "# Criando o objeto contendo a probabilidade da interseção\n",
        "PAinterB = 0.24\n",
        "# Calculando a Probabilidade da União\n",
        "PAuniaoB = PA + PB - PAinterB\n",
        "print(PAuniaoB)"
      ],
      "metadata": {
        "colab": {
          "base_uri": "https://localhost:8080/"
        },
        "id": "GHteCDLJp1UU",
        "outputId": "b7ca2044-1deb-408e-b2a9-e778a4968c6a"
      },
      "execution_count": 6,
      "outputs": [
        {
          "output_type": "stream",
          "name": "stdout",
          "text": [
            "0.3400000000000001\n"
          ]
        }
      ]
    },
    {
      "cell_type": "code",
      "source": [
        "# Criando o objeto P(A)\n",
        "PA = 0.30\n",
        "# Criando o objeto P(B)\n",
        "PB = 0.28\n",
        "# Criando o objeto contendo a probabilidade da união\n",
        "PAuniaoB = 0.24\n",
        "# Calculando a Probabilidade da União\n",
        "PAInterB = PA + PB - PAuniaoB\n",
        "print(PAuniaoB)"
      ],
      "metadata": {
        "colab": {
          "base_uri": "https://localhost:8080/"
        },
        "id": "JOHzlqBfp5RY",
        "outputId": "6c1c9bab-543f-4337-d81f-f8b94a4b18d4"
      },
      "execution_count": 7,
      "outputs": [
        {
          "output_type": "stream",
          "name": "stdout",
          "text": [
            "0.24\n"
          ]
        }
      ]
    },
    {
      "cell_type": "code",
      "source": [
        "# Criando o objeto P(A)\n",
        "PA = 0.10\n",
        "# Criando o objeto P(AC), Evento complementar ao A\n",
        "PAC = 0.9\n",
        "# Criando o objeto PBdadoA\n",
        "PBdadoA = 0.5\n",
        "# Calculando o objeto PBCdadoA\n",
        "PBCdadoA = 0.5\n",
        "# Calculando o objeto PBdadoAC\n",
        "PBdadoAC = 0.15\n",
        "# Calculando o objeto PBCdadoAC\n",
        "PBCdadoAC = 0.85\n",
        "#Queremos saber PB\n",
        "PB = PA * PBdadoA + PAC * PBdadoAC\n",
        "print(PB)"
      ],
      "metadata": {
        "colab": {
          "base_uri": "https://localhost:8080/"
        },
        "id": "Ebcx8Z81q8Fs",
        "outputId": "2b50a8c6-a6ad-4140-c1a3-4e34682b7f48"
      },
      "execution_count": 8,
      "outputs": [
        {
          "output_type": "stream",
          "name": "stdout",
          "text": [
            "0.185\n"
          ]
        }
      ]
    },
    {
      "cell_type": "code",
      "source": [
        "# Calculando PAinterB\n",
        "PAinterB = 0.8 * 0.4\n",
        "# Calculando PAinterB\n",
        "PACinterB = 0.2 * 0.2\n",
        "# Calculando PB\n",
        "PB= PAinterB + PACinterB\n",
        "# Utilizando a fórmula de Bayes\n",
        "bayes = PAinterB/PB\n",
        "print(bayes)"
      ],
      "metadata": {
        "colab": {
          "base_uri": "https://localhost:8080/"
        },
        "id": "SudsHCY2q_sS",
        "outputId": "904a5413-77fc-4a40-e43c-589b717c7411"
      },
      "execution_count": 10,
      "outputs": [
        {
          "output_type": "stream",
          "name": "stdout",
          "text": [
            "0.8888888888888888\n"
          ]
        }
      ]
    }
  ]
}