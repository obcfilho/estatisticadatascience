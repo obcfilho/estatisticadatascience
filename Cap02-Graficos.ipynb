### Gráfico de Pizza

# Imports de bibliotecas
from matplotlib import pyplot
# Categorias e tamanhos dos setores. Os setores serão ordenados e plotados no sentido anti-horário
categorias = 'Java', 'R', 'Python'
setores = [45, 25, 30] 
# Criação do gráfico
pyplot.pie(x=setores, labels=categorias)
pyplot.show()


### Gráfico de Colunas

# Imports de bibliotecas
from matplotlib import pyplot
# Categorias
x = ['R', 'Java', 'Python']
# Valores de cada categoria
y = [27, 42, 89] 
# Criação do gráfico
pyplot.bar(x, y)
# Exibição do gráfico
pyplot.show()


### Gráfico de Barras

# Imports de bibliotecas
from matplotlib import pyplot
# Categorias
x = ['R', 'Java', 'Python']
# Valores de cada categoria
y = [27, 42, 89] 
# Criação do gráfico
pyplot.barh(x, y)
# Exibição do gráfico
pyplot.show()


### Gráfico de Dispersão

# Imports de bibliotecas
from matplotlib import pyplot
# Valores de x
x = [46, 9, 25, 42, 95]
# Valores de y
y = [12, 23, 4, 9, 15]
# Criação do gráfico
pyplot.scatter(x, y)
# Exibição do gráfico
pyplot.show()


### Histograma

# Imports de bibliotecas
from matplotlib import pyplot
# Valores
x = [64, 77, 45, 64, 88, 11, 22, 67, 81, 88, 43, 51, 18, 32, 3, 10, 90, 20, 24, 63, 51, 96, 11, 78]
# Número de intervalos (bins)
num_bins = 6
# Criação do gráfico
pyplot.hist(x, num_bins)
# Exibição do gráfico
pyplot.show()


### Gráfico de Linhas
# Imports de bibliotecas
from matplotlib import pyplot
# Valores de x
x = [3, 10, 11, 13, 18, 20, 22, 24, 32, 43, 45, 51, 56, 63, 64, 67, 69, 77, 78, 81, 83, 88, 90, 96]
# Valores de y
y = [2,	2, 9, 1, 6, 6, 0, 6, 9, 1, 8, 4, 1, 9, 7, 3, 5, 4, 1, 6, 0, 2, 5, 7]
# Criação do gráfico
pyplot.plot(x, y)
# Exibição do gráfico
pyplot.show()