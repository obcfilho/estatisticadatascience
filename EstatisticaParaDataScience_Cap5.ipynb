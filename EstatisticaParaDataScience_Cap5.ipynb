{
  "nbformat": 4,
  "nbformat_minor": 0,
  "metadata": {
    "colab": {
      "name": "EstatisticaParaDataScience_Cap5.ipynb",
      "provenance": []
    },
    "kernelspec": {
      "name": "python3",
      "display_name": "Python 3"
    },
    "language_info": {
      "name": "python"
    }
  },
  "cells": [
    {
      "cell_type": "markdown",
      "source": [
        "# Capítulo 5 - Cálculo das Probabilidades: Distribuições de Probabilidade Discretas e Contínuas"
      ],
      "metadata": {
        "id": "gbsWWf569_B5"
      }
    },
    {
      "cell_type": "code",
      "execution_count": 1,
      "metadata": {
        "id": "3JGEJzg-99q1"
      },
      "outputs": [],
      "source": [
        "# Habilita a execução de R no Google Colab\n",
        "%load_ext rpy2.ipython"
      ]
    },
    {
      "cell_type": "markdown",
      "source": [
        "## Distribuição de Bernoulli"
      ],
      "metadata": {
        "id": "V5lrkmxn-UzP"
      }
    },
    {
      "cell_type": "code",
      "source": [
        "%%R\n",
        "# Calculando pela função de densidade de probabilidade aplicando para X=1: P(X=1)\n",
        "print(dbinom(1,size=1,p=0.5)) # Resultado 0.5\n",
        "# Calculando pela funçao de distribuição acumulada, fazendo o equivalente a P(X<=1)-P(X<=0)= P(X=1), que é o que queremos calcular.\n",
        "print(pbinom(1,size=1,p=0.5)-pbinom(0,1,p=0.5))  # Resultado 0.5"
      ],
      "metadata": {
        "colab": {
          "base_uri": "https://localhost:8080/"
        },
        "id": "7P2sg0tY-s8V",
        "outputId": "d3a68ccf-770b-4f04-c742-75921cdb7348"
      },
      "execution_count": null,
      "outputs": [
        {
          "output_type": "stream",
          "name": "stdout",
          "text": [
            "[1] 0.5\n",
            "[1] 0.5\n"
          ]
        }
      ]
    },
    {
      "cell_type": "code",
      "source": [
        "# Imports de bibliotecas\n",
        "from scipy.stats import binom\n",
        "# Calculando pela função de densidade de probabilidade aplicando para X=1: P(X=1)\n",
        "print(binom.pmf(1, 1, 0.5)) # Resultado 0.5\n",
        "# Calculando pela funçao de distribuição acumulada, fazendo o equivalente a P(X<=1)-P(X<=0)= P(X=1), que é o que queremos calcular.\n",
        "print(binom.cdf(1, 1, 0.5)-binom.cdf(0, 1, 0.5)) # Resultado 0.5"
      ],
      "metadata": {
        "colab": {
          "base_uri": "https://localhost:8080/"
        },
        "id": "YZstp_G8HjqC",
        "outputId": "4547908b-af54-4270-a7ff-1a37c50e13b6"
      },
      "execution_count": null,
      "outputs": [
        {
          "output_type": "stream",
          "name": "stdout",
          "text": [
            "0.5\n",
            "0.5\n"
          ]
        }
      ]
    },
    {
      "cell_type": "markdown",
      "source": [
        "## Distribuição Binomial"
      ],
      "metadata": {
        "id": "szOlN44wJbJO"
      }
    },
    {
      "cell_type": "code",
      "source": [
        "%%R\n",
        "# Calculando pela função de densidade de probabilidade aplicando para X=1: P(X=1)\n",
        "print(dbinom(1,2,0.5)) # Resultado 0.5\n",
        "# Calculando pela funçao de distribuição acumulada, fazendo o equivalente a P(X<=1)-P(X<=0)= P(X=1), que é o que queremos calcular.\n",
        "print(pbinom(1,2,p=0.5)-pbinom(0,2,p=0.5)) # Resultado 0.5"
      ],
      "metadata": {
        "colab": {
          "base_uri": "https://localhost:8080/"
        },
        "id": "6aUoNn1TJbPj",
        "outputId": "54e3d431-e74a-4715-aceb-c6e11e58529a"
      },
      "execution_count": null,
      "outputs": [
        {
          "output_type": "stream",
          "name": "stdout",
          "text": [
            "[1] 0.5\n",
            "[1] 0.5\n"
          ]
        }
      ]
    },
    {
      "cell_type": "code",
      "source": [
        "# Imports de bibliotecas\n",
        "from scipy.stats import binom\n",
        "# Calculando pela função de densidade de probabilidade aplicando para X=1: P(X=1)\n",
        "print(binom.pmf(1, 2, 0.5)) # Resultado 0.5\n",
        "# Calculando pela funçao de distribuição acumulada, fazendo o equivalente a P(X<=1)-P(X<=0)= P(X=1), que é o que queremos calcular.\n",
        "print(binom.cdf(1, 2, 0.5)-binom.cdf(0, 2, 0.5)) # Resultado 0.5"
      ],
      "metadata": {
        "colab": {
          "base_uri": "https://localhost:8080/"
        },
        "id": "XAlUbUetL7n8",
        "outputId": "10067b24-6af4-4103-a3b7-7ae914a3748c"
      },
      "execution_count": null,
      "outputs": [
        {
          "output_type": "stream",
          "name": "stdout",
          "text": [
            "0.5\n",
            "0.5\n"
          ]
        }
      ]
    },
    {
      "cell_type": "code",
      "source": [
        "%%R\n",
        "n = 20 # número de questões da prova\n",
        "p = 0.2 # probabilidade de sucesso (acertar uma questão em cinco) \n",
        "\n",
        "# Utilizando a função densidade de probabilidade aplicando para X=6: P(X=6)\n",
        "print(dbinom(6,n,p))\n",
        "\n",
        "# Utilizando a função de distribuição acumulada P(X<=6)-P(X<=5)= P(X=6)\n",
        "print(pbinom(6,n,p)-pbinom(5,n,p))\n",
        "\n",
        "# Calculando o valor esperado\n",
        "valor_esperado = n*p\n",
        "print(valor_esperado)"
      ],
      "metadata": {
        "colab": {
          "base_uri": "https://localhost:8080/"
        },
        "id": "o3F9NA-z8qal",
        "outputId": "14524cb9-54ad-47a3-df84-7d86906f923b"
      },
      "execution_count": null,
      "outputs": [
        {
          "output_type": "stream",
          "name": "stdout",
          "text": [
            "[1] 0.1090997\n",
            "[1] 0.1090997\n",
            "[1] 4\n"
          ]
        }
      ]
    },
    {
      "cell_type": "code",
      "source": [
        "# Imports de bibliotecas\n",
        "from scipy.stats import binom\n",
        "\n",
        "n = 20\n",
        "p = 0.2\n",
        "\n",
        "# Utilizando a função densidade de probabilidade aplicando para X=6: P(X=6)\n",
        "print(binom.pmf(6,n,p))\n",
        "\n",
        " # Utilizando a função de distribuição acumulada P(X<=6)-P(X<=5)= P(X=6)\n",
        "print(binom.cdf(6,n,p)-binom.cdf(5,n,p))\n",
        "\n",
        "# Calculando o valor esperado\n",
        "valor_esperado = n*p\n",
        "print(valor_esperado)"
      ],
      "metadata": {
        "colab": {
          "base_uri": "https://localhost:8080/"
        },
        "id": "BAi1sTqf-McR",
        "outputId": "fc4e7fd4-8f6f-493c-a0d2-8402b0d16ac9"
      },
      "execution_count": 12,
      "outputs": [
        {
          "output_type": "stream",
          "name": "stdout",
          "text": [
            "0.10909970097304993\n",
            "0.10909970097305033\n",
            "4.0\n"
          ]
        }
      ]
    },
    {
      "cell_type": "markdown",
      "source": [
        "## Distribuição de Poisson"
      ],
      "metadata": {
        "id": "tPhspL_i_mmN"
      }
    },
    {
      "cell_type": "code",
      "source": [
        "%%R\n",
        "\n",
        "# a) Como o a taxa solicitada está em horas, manteremos o nosso lambda\n",
        "lambda = 3\n",
        "\n",
        "# Utilizando a função densidade de probabilidade aplicando para X=2: P(X=2)\n",
        "print(dpois(2,lambda))\n",
        "\n",
        "# Utilizando a função de distribuição acumulada P(X<=2) - P(X<=1) = P(X=2)\n",
        "print(ppois(2,lambda)-ppois(1,lambda))\n",
        "\n",
        "# Fazendo o equivalente manualmente\n",
        "print((3^2)*exp(-3)/factorial(2))\n",
        "\n",
        "# b) Como o a taxa solicitada está em 2 horas, ajustaremos o lambda proporcionalmente para 6\n",
        "lambda = 6\n",
        "\n",
        "# Calculando o complementar da probabilidade solicitada ou seja: 1 - P(X<=1) = 1-P(X<2) = P(X>=2)\n",
        "print(1-ppois(1,lambda))"
      ],
      "metadata": {
        "id": "rsdMmDRE_ruW",
        "colab": {
          "base_uri": "https://localhost:8080/"
        },
        "outputId": "3bdd0a0e-7250-459d-ece1-e627b951e31e"
      },
      "execution_count": 7,
      "outputs": [
        {
          "output_type": "stream",
          "name": "stdout",
          "text": [
            "[1] 0.2240418\n",
            "[1] 0.2240418\n",
            "[1] 0.2240418\n",
            "[1] 0.9826487\n"
          ]
        }
      ]
    },
    {
      "cell_type": "code",
      "source": [
        "# Imports de bibliotecas\n",
        "import math\n",
        "from scipy.stats import poisson\n",
        "\n",
        "# a) Como o a taxa solicitada está em horas, manteremos o nosso lambda \n",
        "lamb = 3 # OBS: lambda é palavra reservada em Python\n",
        "\n",
        "# Utilizando a função densidade de probabilidade aplicando para X=2: P(X=2)\n",
        "print(poisson.pmf(2,lamb))\n",
        "\n",
        "# Utilizando a função de distribuição acumulada P(X<=2) - P(X<=1) = P(X=2)\n",
        "print(poisson.cdf(2,lamb)-poisson.cdf(2-1,lamb))\n",
        "\n",
        "# Fazendo o equivalente manualmente\n",
        "print(math.pow(lamb,2)*math.exp(-lamb)/math.factorial(2))\n",
        "\n",
        "# b) Como a taxa solicitada está em 2 horas, ajustaremos o lambda proporcionalmente para 6\n",
        "lamb = 6\n",
        "\n",
        "# Calculando o complementar da probabilidade solicitada ou seja: 1 - P(X<=1) = 1-P(X<2) = P(X>=2)\n",
        "print(1-poisson.cdf(2-1,lamb))"
      ],
      "metadata": {
        "colab": {
          "base_uri": "https://localhost:8080/"
        },
        "id": "Grl6y2ezfwz3",
        "outputId": "2e85e0db-bd35-4f55-9d26-6ca1b6232d3f"
      },
      "execution_count": 10,
      "outputs": [
        {
          "output_type": "stream",
          "name": "stdout",
          "text": [
            "0.22404180765538775\n",
            "0.22404180765538784\n",
            "0.22404180765538775\n",
            "0.9826487347633355\n"
          ]
        }
      ]
    },
    {
      "cell_type": "markdown",
      "source": [
        "## Distribuição Uniforme Contínua ou Retangular"
      ],
      "metadata": {
        "id": "cDBG8hzSHVOG"
      }
    },
    {
      "cell_type": "code",
      "source": [
        "%%R\n",
        "\n",
        "# a) Calculando a função de densidade de probabilidade f(x) = 1/(b-a)\n",
        "a = 0\n",
        "b = 10\n",
        "print(1/(b-a))\n",
        "\n",
        "# b) Utilizando a função de distribuição acumulada P(X<=10)-P(X<=5)= P(5<=X<=10)\n",
        "print(punif(10,min=0,max=10)-punif(5,min=0,max=10))\n",
        "# Calculando manualmente\n",
        "print((10-5)*1/(b-a))\n",
        "\n",
        "# c) Média e variância\n",
        "media = (b+a)/2\n",
        "variancia = (b-a)^2/12\n",
        "print(cbind(media,variancia))"
      ],
      "metadata": {
        "colab": {
          "base_uri": "https://localhost:8080/"
        },
        "id": "y12RsDNfHWK9",
        "outputId": "21293ffe-77e0-4908-f0fb-1fe902fd9228"
      },
      "execution_count": 17,
      "outputs": [
        {
          "output_type": "stream",
          "name": "stdout",
          "text": [
            "[1] 0.1\n",
            "[1] 0.5\n",
            "[1] 0.5\n",
            "     media variancia\n",
            "[1,]     5  8.333333\n"
          ]
        }
      ]
    },
    {
      "cell_type": "code",
      "source": [
        "# Imports de bibliotecas\n",
        "from scipy.stats import uniform \n",
        "\n",
        "# a) Calculando a função de densidade de probabilidade f(x) = 1/(b-a)\n",
        "a = 0\n",
        "b = 10\n",
        "print(1/(b-a))\n",
        "\n",
        "# b) Utilizando a função de distribuição acumulada P(X<=10)-P(X<=5)= P(5<=X<=10)\n",
        "print(uniform.cdf(x=10, loc=0, scale=10) - uniform.cdf(x=5, loc=0, scale=10))\n",
        "# Calculando manualmente\n",
        "print((10-5)*1/(b-a))\n",
        "\n",
        "# c) Média e variância\n",
        "media = (b+a)/2\n",
        "variancia = (b-a)**2/12\n",
        "print(media,variancia)"
      ],
      "metadata": {
        "colab": {
          "base_uri": "https://localhost:8080/"
        },
        "id": "gzhhnf0xHWNc",
        "outputId": "d554b624-e249-4b6c-bcaf-a6af4003ac78"
      },
      "execution_count": 9,
      "outputs": [
        {
          "output_type": "stream",
          "name": "stdout",
          "text": [
            "0.1\n",
            "0.5\n",
            "0.5\n",
            "5.0 8.333333333333334\n"
          ]
        }
      ]
    },
    {
      "cell_type": "markdown",
      "source": [
        "## Distribuição Exponencial"
      ],
      "metadata": {
        "id": "erTMZ1BjgoR7"
      }
    },
    {
      "cell_type": "code",
      "source": [
        "%%R\n",
        "\n",
        "# a) Utilizando a função de distribuição acumulada P(X<=12)\n",
        "print(pexp(12,rate=1/10))\n",
        "\n",
        "# Calculando manualmente\n",
        "print(1-exp(-1.2))\n",
        "\n",
        "# b) Utilizando a função de distribuição acumulada P(X<=12)-P(X<=7)\n",
        "print(pexp(12,rate=1/10) - pexp(7,rate=1/10))\n",
        "\n",
        "# Calculando manualmente\n",
        "print(1-exp(-1.2) - (1-exp(-0.7)))"
      ],
      "metadata": {
        "colab": {
          "base_uri": "https://localhost:8080/"
        },
        "id": "XCeC4-W2gqHr",
        "outputId": "b4b8f027-7d21-41ec-f47a-ef16aa59e012"
      },
      "execution_count": 33,
      "outputs": [
        {
          "output_type": "stream",
          "name": "stdout",
          "text": [
            "[1] 0.6988058\n",
            "[1] 0.6988058\n",
            "[1] 0.1953911\n",
            "[1] 0.1953911\n"
          ]
        }
      ]
    },
    {
      "cell_type": "code",
      "source": [
        "# Imports de bibliotecas\n",
        "import math \n",
        "from scipy.stats import expon\n",
        "\n",
        "# a) Utilizando a função de distribuição acumulada P(X<=12)\n",
        "lamb = 1/10\n",
        "print(expon.cdf(12, loc = 0, scale = 1/lamb))\n",
        "\n",
        "# Calculando manualmente\n",
        "print(1-math.exp(-1.2))\n",
        "\n",
        "# b) Utilizando a função de distribuição acumulada P(X<=12)-P(X<=7)\n",
        "print(expon.cdf(12,loc = 0, scale = 1/lamb) - expon.cdf(7,scale = 1/lamb))\n",
        "\n",
        "# Calculando manualmente\n",
        "print(math.exp(-0.7) - math.exp(-1.2))"
      ],
      "metadata": {
        "colab": {
          "base_uri": "https://localhost:8080/"
        },
        "id": "J0tcaUiPyE67",
        "outputId": "a65c44f6-a41a-4b8f-9a9f-7c5e132b4e7e"
      },
      "execution_count": 5,
      "outputs": [
        {
          "output_type": "stream",
          "name": "stdout",
          "text": [
            "0.6988057880877978\n",
            "0.6988057880877978\n",
            "0.19539109187920733\n",
            "0.1953910918792074\n"
          ]
        }
      ]
    },
    {
      "cell_type": "markdown",
      "source": [
        "## Distribuição Normal"
      ],
      "metadata": {
        "id": "JVKbWxKbxYVN"
      }
    },
    {
      "cell_type": "code",
      "source": [
        "%%R\n",
        "# Utilizando a função de distribuição acumulada P(x<=80) - P(x<=60)\n",
        "print(pnorm(80, mean = 70, sd = 5) - pnorm(60, mean = 70, sd = 5))\n",
        "\n",
        "# Calculando manualmente\n",
        "limite_inf = (60-70)/5\n",
        "limite_sup = (80-70)/5\n",
        "\n",
        "# Utilizando a função de distribuição acumulada da normal padrão P(z<=2) - P(z<=-2)\n",
        "print(pnorm(limite_sup) - pnorm(limite_inf))"
      ],
      "metadata": {
        "colab": {
          "base_uri": "https://localhost:8080/"
        },
        "id": "xKO3SPQ0xZqM",
        "outputId": "cc92662b-a386-4648-fa26-21f72dde300c"
      },
      "execution_count": 8,
      "outputs": [
        {
          "output_type": "stream",
          "name": "stdout",
          "text": [
            "[1] 0.9544997\n",
            "[1] 0.9544997\n"
          ]
        }
      ]
    },
    {
      "cell_type": "code",
      "source": [
        "# Imports de bibliotecas\n",
        "from scipy.stats import norm \n",
        "\n",
        "# Utilizando a função de distribuição acumulada P(x<=80) - P(x<=60)\n",
        "print(norm.cdf(x=80, loc=70, scale=5) - norm.cdf(x=60, loc=70, scale=5))\n",
        "\n",
        "# Calculando manualmente\n",
        "limite_inf = (60-70)/5\n",
        "limite_sup = (80-70)/5\n",
        "\n",
        "# Utilizando a função de distribuição acumulada da normal padrão P(z<=2) - P(z<=-2)\n",
        "print(norm.cdf(x=limite_sup) - norm.cdf(x=limite_inf))"
      ],
      "metadata": {
        "colab": {
          "base_uri": "https://localhost:8080/"
        },
        "id": "VoNCI9urx2qA",
        "outputId": "233e2c95-76be-4abf-dc08-0e3d62008315"
      },
      "execution_count": 9,
      "outputs": [
        {
          "output_type": "stream",
          "name": "stdout",
          "text": [
            "0.9544997361036416\n",
            "0.9544997361036416\n"
          ]
        }
      ]
    }
  ]
}