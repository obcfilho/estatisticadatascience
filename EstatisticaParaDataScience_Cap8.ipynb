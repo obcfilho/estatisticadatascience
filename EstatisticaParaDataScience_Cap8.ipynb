{
  "nbformat": 4,
  "nbformat_minor": 0,
  "metadata": {
    "colab": {
      "provenance": [],
      "toc_visible": true,
      "include_colab_link": true
    },
    "kernelspec": {
      "name": "python3",
      "display_name": "Python 3"
    },
    "language_info": {
      "name": "python"
    }
  },
  "cells": [
    {
      "cell_type": "markdown",
      "metadata": {
        "id": "view-in-github",
        "colab_type": "text"
      },
      "source": [
        "<a href=\"https://colab.research.google.com/github/tatianaesc/estatisticadatascience/blob/master/EstatisticaParaDataScience_Cap8.ipynb\" target=\"_parent\"><img src=\"https://colab.research.google.com/assets/colab-badge.svg\" alt=\"Open In Colab\"/></a>"
      ]
    },
    {
      "cell_type": "markdown",
      "metadata": {
        "id": "2kl5lMjfwAwm"
      },
      "source": [
        "# Capítulo 8 - Experimentação Contínua"
      ]
    },
    {
      "cell_type": "code",
      "metadata": {
        "id": "PWW_l8-nv3Vh"
      },
      "source": [
        "# Habilita a execução de R no Google Colab\n",
        "%load_ext rpy2.ipython"
      ],
      "execution_count": 1,
      "outputs": []
    },
    {
      "cell_type": "markdown",
      "source": [
        "## Teste de Kolmogorov-Smirnov (K-S)"
      ],
      "metadata": {
        "id": "AHQC9KEc42YH"
      }
    },
    {
      "cell_type": "code",
      "source": [
        "from scipy import stats\n",
        "import numpy as np\n",
        "\n",
        "# Amostra de dados que queremos testar\n",
        "\n",
        "amostra = [0.74251415, 0.62420845, 0.84410007, 0.75873994, 0.85271946, 0.90323381,\n",
        " 0.94143253, 0.89953117, 0.60409993, 0.72599232, 0.85549676, 0.66007039,\n",
        " 0.78236281, 0.61901836, 0.66999878, 0.60648263, 0.87779426, 0.67837364,\n",
        " 0.72087309, 0.92482845, 0.84654504, 0.61114363, 0.65764295, 0.81751744,\n",
        " 0.80203001, 0.68326249, 0.92697497, 0.81488808, 0.78747148, 0.80646849]\n",
        "\n",
        "# Executar o teste de Shapiro-Wilk\n",
        "stat, p_valor = stats.shapiro(amostra)\n",
        "\n",
        "# Exibir os resultados\n",
        "print(\"\\nEstatística de teste:\", stat)\n",
        "print(\"p-valor:\", p_valor)\n",
        "\n",
        "# Interpretar os resultados\n",
        "alpha = 0.05\n",
        "if p_valor > alpha:\n",
        "    print(\"Não há evidências suficientes para rejeitar a hipótese nula (a amostra parece ser normal)\")\n",
        "else:\n",
        "    print(\"A hipótese nula é rejeitada (a amostra não parece ser normal)\")"
      ],
      "metadata": {
        "id": "EI4yO4CE4J7B",
        "colab": {
          "base_uri": "https://localhost:8080/"
        },
        "outputId": "9d38a66a-526c-4488-d227-742b298639fe"
      },
      "execution_count": 2,
      "outputs": [
        {
          "output_type": "stream",
          "name": "stdout",
          "text": [
            "\n",
            "Estatística de teste: 0.9402154684066772\n",
            "p-valor: 0.09218211472034454\n",
            "Não há evidências suficientes para rejeitar a hipótese nula (a amostra parece ser normal)\n"
          ]
        }
      ]
    },
    {
      "cell_type": "markdown",
      "source": [
        "## Teste de Shapiro-Wilk"
      ],
      "metadata": {
        "id": "YjpHCgWC-MWC"
      }
    },
    {
      "cell_type": "code",
      "source": [
        "import numpy as np\n",
        "from scipy import stats\n",
        "\n",
        "# Amostra de dados (substitua com seus próprios dados)\n",
        "dados_amostra = np.array([23.4, 24.1, 22.8, 24.5, 23.9, 24.2, 23.7, 22.5, 23.0, 24.8])\n",
        "\n",
        "# Executando o teste de Shapiro-Wilk\n",
        "stat, p_valor = stats.shapiro(dados_amostra)\n",
        "\n",
        "# Exibindo os resultados do teste\n",
        "print(\"Estatística de teste:\", stat)\n",
        "print(\"p-valor:\", p_valor)\n",
        "\n",
        "# Interpretando o resultado\n",
        "alpha = 0.05  # Nível de significância escolhido\n",
        "if p_valor > alpha:\n",
        "    print(\"Os dados parecem seguir uma distribuição normal (não rejeita H0)\")\n",
        "else:\n",
        "    print(\"Os dados não parecem seguir uma distribuição normal (rejeita H0)\")"
      ],
      "metadata": {
        "id": "rKz9y94--Mf8",
        "colab": {
          "base_uri": "https://localhost:8080/"
        },
        "outputId": "c768aec2-43f9-4e78-dab3-64ff1ec72e91"
      },
      "execution_count": 3,
      "outputs": [
        {
          "output_type": "stream",
          "name": "stdout",
          "text": [
            "Estatística de teste: 0.9695503115653992\n",
            "p-valor: 0.8866446614265442\n",
            "Os dados parecem seguir uma distribuição normal (não rejeita H0)\n"
          ]
        }
      ]
    },
    {
      "cell_type": "markdown",
      "source": [
        "## Teste de Levene"
      ],
      "metadata": {
        "id": "_dvtZwdYEyU-"
      }
    },
    {
      "cell_type": "code",
      "source": [
        "import numpy as np\n",
        "from scipy import stats\n",
        "\n",
        "# Crie três grupos de dados (amostras)\n",
        "grupo1 = np.array([25, 30, 35, 40, 45])\n",
        "grupo2 = np.array([20, 28, 36, 44, 52])\n",
        "grupo3 = np.array([22, 29, 36, 43, 50])\n",
        "\n",
        "# Execute o Teste de Levene\n",
        "stat, p_valor = stats.levene(grupo1, grupo2, grupo3)\n",
        "\n",
        "# Exibindo os resultados do teste\n",
        "print(\"Estatística de teste:\", stat)\n",
        "print(\"p-valor:\", p_valor)\n",
        "\n",
        "# Interpretando o resultado\n",
        "alpha = 0.05  # Nível de significância escolhido\n",
        "if p_valor > alpha:\n",
        "    print(\"Não há evidência suficiente para rejeitar a hipótese nula (variâncias são homogêneas)\")\n",
        "else:\n",
        "    print(\"Evidências sugerem que as variâncias não são homogêneas entre os grupos\")"
      ],
      "metadata": {
        "id": "bRZglAduEybX",
        "colab": {
          "base_uri": "https://localhost:8080/"
        },
        "outputId": "662a2a7f-bcec-4236-9204-68e5da5a6ceb"
      },
      "execution_count": 4,
      "outputs": [
        {
          "output_type": "stream",
          "name": "stdout",
          "text": [
            "Estatística de teste: 0.5217391304347827\n",
            "p-valor: 0.6063550013439997\n",
            "Não há evidência suficiente para rejeitar a hipótese nula (variâncias são homogêneas)\n"
          ]
        }
      ]
    },
    {
      "cell_type": "markdown",
      "source": [
        "## Teste t de Student (ou Student-t)"
      ],
      "metadata": {
        "id": "sxVsmayqIDEq"
      }
    },
    {
      "cell_type": "code",
      "source": [
        "import numpy as np\n",
        "from scipy import stats\n",
        "\n",
        "# Amostras independentes\n",
        "amostra1 = np.array([67, 71, 64, 73, 69])\n",
        "amostra2 = np.array([58, 62, 60, 65, 63])\n",
        "\n",
        "# Realize o teste t de Student\n",
        "stat, p_valor = stats.ttest_ind(amostra1, amostra2)\n",
        "\n",
        "# Exibindo os resultados do teste\n",
        "print(\"Estatística de teste:\", stat)\n",
        "print(\"p-valor:\", p_valor)\n",
        "\n",
        "# Interpretando o resultado\n",
        "alpha = 0.05  # Nível de significância escolhido\n",
        "if p_valor < alpha:\n",
        "    print(\"Rejeita a hipótese nula: As médias são estatisticamente diferentes\")\n",
        "else:\n",
        "    print(\"Não há evidência suficiente para rejeitar a hipótese nula: As médias são estatisticamente iguais\")"
      ],
      "metadata": {
        "id": "sVQWAVGIIDMC",
        "colab": {
          "base_uri": "https://localhost:8080/"
        },
        "outputId": "a6eb5316-3e56-4725-bda6-7395dde23ef6"
      },
      "execution_count": 5,
      "outputs": [
        {
          "output_type": "stream",
          "name": "stdout",
          "text": [
            "Estatística de teste: 3.6458617215011975\n",
            "p-valor: 0.006533336186679828\n",
            "Rejeita a hipótese nula: As médias são estatisticamente diferentes\n"
          ]
        }
      ]
    },
    {
      "cell_type": "markdown",
      "source": [
        "## Teste de Análise de Variância (ANOVA)"
      ],
      "metadata": {
        "id": "DLeZxQSUI492"
      }
    },
    {
      "cell_type": "code",
      "source": [
        "import numpy as np\n",
        "from scipy import stats\n",
        "\n",
        "# Três grupos de amostras\n",
        "grupo1 = np.array([28, 32, 35, 37, 30])\n",
        "grupo2 = np.array([25, 29, 31, 34, 27])\n",
        "grupo3 = np.array([23, 26, 28, 30, 22])\n",
        "\n",
        "# Execute o teste ANOVA\n",
        "stat, p_valor = stats.f_oneway(grupo1, grupo2, grupo3)\n",
        "\n",
        "# Exibindo os resultados do teste\n",
        "print(\"Estatística de teste:\", stat)\n",
        "print(\"p-valor:\", p_valor)\n",
        "\n",
        "# Interpretando o resultado\n",
        "alpha = 0.05  # Nível de significância escolhido\n",
        "if p_valor < alpha:\n",
        "    print(\"Rejeita a hipótese nula: Há diferenças significativas entre as médias dos grupos\")\n",
        "else:\n",
        "    print(\"Não há evidência suficiente para rejeitar a hipótese nula: As médias dos grupos são estatisticamente iguais\")"
      ],
      "metadata": {
        "id": "JdhoHdfLI5ED",
        "colab": {
          "base_uri": "https://localhost:8080/"
        },
        "outputId": "e9135057-0c0b-48b3-8666-996eef712442"
      },
      "execution_count": 6,
      "outputs": [
        {
          "output_type": "stream",
          "name": "stdout",
          "text": [
            "Estatística de teste: 4.45231607629428\n",
            "p-valor: 0.03577933766742762\n",
            "Rejeita a hipótese nula: Há diferenças significativas entre as médias dos grupos\n"
          ]
        }
      ]
    },
    {
      "cell_type": "markdown",
      "source": [
        "## Teste de Tukey"
      ],
      "metadata": {
        "id": "WZ79f6EAK34l"
      }
    },
    {
      "cell_type": "code",
      "source": [
        "import numpy as np\n",
        "import pandas as pd\n",
        "import statsmodels.api as sm\n",
        "from statsmodels.stats.multicomp import pairwise_tukeyhsd\n",
        "\n",
        "# Quatro grupos de amostras\n",
        "grupo1 = np.array([68, 72, 76, 74, 70])\n",
        "grupo2 = np.array([65, 68, 70, 73, 66])\n",
        "grupo3 = np.array([72, 78, 80, 76, 75])\n",
        "grupo4 = np.array([63, 66, 68, 65, 70])\n",
        "\n",
        "# Combine os dados em um único DataFrame\n",
        "dados = pd.DataFrame({'Amostra': ['Grupo1'] * len(grupo1) + ['Grupo2'] * len(grupo2) + ['Grupo3'] * len(grupo3) + ['Grupo4'] * len(grupo4),\n",
        "                      'Valores': np.concatenate([grupo1, grupo2, grupo3, grupo4])})\n",
        "\n",
        "# Realize o teste de Tukey\n",
        "resultado_tukey = pairwise_tukeyhsd(dados['Valores'], dados['Amostra'], alpha=0.05)\n",
        "\n",
        "# Exibindo os resultados do teste\n",
        "print(resultado_tukey)\n",
        "\n",
        "# Visualize os resultados em um gráfico\n",
        "resultado_tukey.plot_simultaneous()"
      ],
      "metadata": {
        "id": "Zd26KOkAK3_z",
        "colab": {
          "base_uri": "https://localhost:8080/",
          "height": 1000
        },
        "outputId": "9b1b2dde-2886-4173-9d71-5b811124e7cd"
      },
      "execution_count": 7,
      "outputs": [
        {
          "output_type": "stream",
          "name": "stdout",
          "text": [
            " Multiple Comparison of Means - Tukey HSD, FWER=0.05 \n",
            "=====================================================\n",
            "group1 group2 meandiff p-adj   lower    upper  reject\n",
            "-----------------------------------------------------\n",
            "Grupo1 Grupo2     -3.6 0.2763  -9.0884  1.8884  False\n",
            "Grupo1 Grupo3      4.2 0.1684  -1.2884  9.6884  False\n",
            "Grupo1 Grupo4     -5.6 0.0447 -11.0884 -0.1116   True\n",
            "Grupo2 Grupo3      7.8 0.0045   2.3116 13.2884   True\n",
            "Grupo2 Grupo4     -2.0 0.7277  -7.4884  3.4884  False\n",
            "Grupo3 Grupo4     -9.8 0.0005 -15.2884 -4.3116   True\n",
            "-----------------------------------------------------\n"
          ]
        },
        {
          "output_type": "execute_result",
          "data": {
            "text/plain": [
              "<Figure size 1000x600 with 1 Axes>"
            ],
            "image/png": "[encoded data removed]"
          },
          "metadata": {},
          "execution_count": 7
        },
        {
          "output_type": "display_data",
          "data": {
            "text/plain": [
              "<Figure size 1000x600 with 1 Axes>"
            ],
            "image/png": "[encoded data removed]"
          },
          "metadata": {}
        }
      ]
    },
    {
      "cell_type": "markdown",
      "source": [
        "## Teste de Mann-Whitney"
      ],
      "metadata": {
        "id": "-HQZPoDRKDTu"
      }
    },
    {
      "cell_type": "code",
      "source": [
        "import numpy as np\n",
        "from scipy import stats\n",
        "\n",
        "# Amostras independentes\n",
        "amostra1 = np.array([15, 18, 22, 24, 28, 32, 35, 40])\n",
        "amostra2 = np.array([10, 14, 20, 25, 30, 34, 38, 42])\n",
        "\n",
        "# Execute o teste de Mann-Whitney\n",
        "stat, p_valor = stats.mannwhitneyu(amostra1, amostra2)\n",
        "\n",
        "# Exibindo os resultados do teste\n",
        "print(\"Estatística de teste U:\", stat)\n",
        "print(\"Valor-p:\", p_valor)\n",
        "\n",
        "# Interpretando o resultado\n",
        "alpha = 0.05  # Nível de significância escolhido\n",
        "if p_valor < alpha:\n",
        "    print(\"Rejeita a hipótese nula: As distribuições das amostras são estatisticamente diferentes\")\n",
        "else:\n",
        "    print(\"Não há evidência suficiente para rejeitar a hipótese nula: As distribuições das amostras são estatisticamente iguais\")"
      ],
      "metadata": {
        "id": "U72ghxVKKDan",
        "colab": {
          "base_uri": "https://localhost:8080/"
        },
        "outputId": "b604d4e1-5c3e-4582-d59d-b07b6f83d952"
      },
      "execution_count": 8,
      "outputs": [
        {
          "output_type": "stream",
          "name": "stdout",
          "text": [
            "Estatística de teste U: 32.0\n",
            "Valor-p: 1.0\n",
            "Não há evidência suficiente para rejeitar a hipótese nula: As distribuições das amostras são estatisticamente iguais\n"
          ]
        }
      ]
    },
    {
      "cell_type": "markdown",
      "source": [
        "## Teste de Kruskal-Wallis"
      ],
      "metadata": {
        "id": "e6KctOlkMQDE"
      }
    },
    {
      "cell_type": "code",
      "source": [
        "import numpy as np\n",
        "from scipy import stats\n",
        "\n",
        "# Três grupos de amostras\n",
        "grupo1 = np.array([28, 32, 35, 30, 34])\n",
        "grupo2 = np.array([25, 29, 30, 27, 31])\n",
        "grupo3 = np.array([20, 23, 22, 26, 24])\n",
        "\n",
        "# Execute o teste de Kruskal-Wallis\n",
        "stat, p_valor = stats.kruskal(grupo1, grupo2, grupo3)\n",
        "\n",
        "# Exibindo os resultados do teste\n",
        "print(\"Estatística de teste de Kruskal-Wallis:\", stat)\n",
        "print(\"p-valor:\", p_valor)\n",
        "\n",
        "# Interpretando o resultado\n",
        "alpha = 0.05  # Nível de significância escolhido\n",
        "if p_valor < alpha:\n",
        "    print(\"Rejeita a hipótese nula: Pelo menos um grupo tem uma mediana diferente dos outros\")\n",
        "else:\n",
        "    print(\"Não há evidência suficiente para rejeitar a hipótese nula: As medianas dos grupos são iguais\")"
      ],
      "metadata": {
        "id": "AccMzwXgMQLo",
        "colab": {
          "base_uri": "https://localhost:8080/"
        },
        "outputId": "efab34d3-4732-4d07-9327-5c2777e427ec"
      },
      "execution_count": 9,
      "outputs": [
        {
          "output_type": "stream",
          "name": "stdout",
          "text": [
            "Estatística de teste de Kruskal-Wallis: 10.103041144901617\n",
            "p-valor: 0.006399594996275725\n",
            "Rejeita a hipótese nula: Pelo menos um grupo tem uma mediana diferente dos outros\n"
          ]
        }
      ]
    },
    {
      "cell_type": "markdown",
      "source": [
        "## Effect Size"
      ],
      "metadata": {
        "id": "80VCfOlpjDuo"
      }
    },
    {
      "cell_type": "code",
      "source": [
        "import numpy as np\n",
        "from scipy import stats\n",
        "\n",
        "# Dados de exemplo: pontuações de precisão dos modelos A e B\n",
        "modelo_A = np.array([0.78, 0.82, 0.85, 0.79, 0.81])\n",
        "modelo_B = np.array([0.88, 0.92, 0.90, 0.89, 0.91])\n",
        "\n",
        "# Calculando as médias e os desvios padrão das pontuações\n",
        "media_A = np.mean(modelo_A)\n",
        "media_B = np.mean(modelo_B)\n",
        "desvio_padrao_A = np.std(modelo_A, ddof=1)  # Usando ddof=1 para calcular o desvio padrão amostral\n",
        "desvio_padrao_B = np.std(modelo_B, ddof=1)\n",
        "\n",
        "# Calculando a diferença nas médias\n",
        "diferenca_medias = media_B - media_A\n",
        "\n",
        "# Calculando o Effect Size usando Cohen's d\n",
        "effect_size = diferenca_medias / np.sqrt((desvio_padrao_A ** 2 + desvio_padrao_B ** 2) / 2)\n",
        "\n",
        "# Realizando um teste de hipótese para determinar a significância estatística\n",
        "t_stat, p_valor = stats.ttest_ind(modelo_A, modelo_B)\n",
        "\n",
        "# Imprimindo os resultados\n",
        "print(f'Média do Modelo A: {media_A:.2f}')\n",
        "print(f'Média do Modelo B: {media_B:.2f}')\n",
        "print(f'Diferença nas Médias: {diferenca_medias:.2f}')\n",
        "print(f'Effect Size (Cohen\\'s d): {effect_size:.2f}')\n",
        "print(f'Valor p do Teste de Hipótese: {p_valor:.4f}')\n",
        "\n",
        "# Interpretando o resultado\n",
        "if p_valor < 0.05:\n",
        "    print('A diferença nas médias é estatisticamente significativa.')\n",
        "else:\n",
        "    print('A diferença nas médias não é estatisticamente significativa.')\n"
      ],
      "metadata": {
        "id": "UiDFAaVgjHvf",
        "colab": {
          "base_uri": "https://localhost:8080/"
        },
        "outputId": "98cfcfa3-5bb9-4140-f49b-f6192c63f293"
      },
      "execution_count": 10,
      "outputs": [
        {
          "output_type": "stream",
          "name": "stdout",
          "text": [
            "Média do Modelo A: 0.81\n",
            "Média do Modelo B: 0.90\n",
            "Diferença nas Médias: 0.09\n",
            "Effect Size (Cohen's d): 4.02\n",
            "Valor p do Teste de Hipótese: 0.0002\n",
            "A diferença nas médias é estatisticamente significativa.\n"
          ]
        }
      ]
    }
  ]
}